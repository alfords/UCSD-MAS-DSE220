{
 "cells": [
  {
   "cell_type": "markdown",
   "metadata": {},
   "source": [
    "Assignnement 2: Prediction and Classification\n",
    "\n",
    "Due: Thursday, April 30, 2015 11:59 PM\n"
   ]
  },
  {
   "cell_type": "markdown",
   "metadata": {},
   "source": [
    "# Introduction\n",
    "Problem 3 is optional - for extra credit!\n",
    "Problems 1 and 2 will be graded for the Lab 2.  \n",
    "\n",
    "\n",
    "In this assignment you will be using regression and classification to explore different data sets.  \n",
    "\n",
    "**First**: You will use data from before 2002 in the [Sean Lahman's Baseball Database](http://seanlahman.com/baseball-archive/statistics) to create a metric for picking baseball players using linear regression.  This database contains the \"complete batting and pitching statistics from 1871 to 2013, plus fielding statistics, standings, team stats, managerial records, post-season data, and more\". [Documentation provided here](http://seanlahman.com/files/database/readme2012.txt).\n",
    "\n",
    "![\"Sabermetrics Science\"](http://saberseminar.com/wp-content/uploads/2012/01/saber-web.jpg)\n",
    "http://saberseminar.com/wp-content/uploads/2012/01/saber-web.jpg\n",
    "\n",
    "**Second**: You will use the famous [iris](http://en.wikipedia.org/wiki/Iris_flower_data_set) data set to perform a $k$-neareast neighbor classification using cross validation.  While it was introduced in 1936, it is still [one of the most popular](http://archive.ics.uci.edu/ml/) example data sets in the machine learning community. Wikipedia describes the data set as follows: \"The data set consists of 50 samples from each of three species of Iris (Iris setosa, Iris virginica and Iris versicolor). Four features were measured from each sample: the length and the width of the sepals and petals, in centimetres.\" Here is an illustration what the four features measure:\n",
    "\n",
    "![\"iris data features\"](http://sebastianraschka.com/Images/2014_python_lda/iris_petal_sepal.png)\n",
    "http://sebastianraschka.com/Images/2014_python_lda/iris_petal_sepal.png\n",
    "\n",
    "**Third**: You will investigate the influence of higher dimensional spaces on the classification using another standard data set in machine learning called the The [cars data set](https://archive.ics.uci.edu/ml/datasets/Automobile).  \n"
   ]
  },
  {
   "cell_type": "markdown",
   "metadata": {},
   "source": [
    "## Load Python modules"
   ]
  },
  {
   "cell_type": "code",
   "execution_count": 2,
   "metadata": {
    "collapsed": false
   },
   "outputs": [
    {
     "name": "stderr",
     "output_type": "stream",
     "text": [
      "/usr/local/lib/python2.7/site-packages/matplotlib/__init__.py:872: UserWarning: axes.color_cycle is deprecated and replaced with axes.prop_cycle; please use the latter.\n",
      "  warnings.warn(self.msg_depr % (key, alt_key))\n"
     ]
    }
   ],
   "source": [
    "# prepare the notebook for matplotlib\n",
    "%matplotlib inline \n",
    "\n",
    "import requests \n",
    "import StringIO\n",
    "import zipfile\n",
    "import numpy as np\n",
    "import pandas as pd # pandas\n",
    "import matplotlib.pyplot as plt # module for plotting \n",
    "\n",
    "# If this module is not already installed, you may need to install it. \n",
    "# You can do this by typing 'pip install seaborn' in the command line\n",
    "import seaborn as sns \n",
    "\n",
    "import sklearn\n",
    "import sklearn.datasets\n",
    "import sklearn.cross_validation\n",
    "import sklearn.decomposition\n",
    "import sklearn.grid_search\n",
    "import sklearn.neighbors\n",
    "import sklearn.metrics"
   ]
  },
  {
   "cell_type": "markdown",
   "metadata": {},
   "source": [
    "# Problem 1: Sabermetrics\n",
    "\n",
    "Using data preceding the 2002 season pick 10 offensive players keeping the payroll under $20 million (assign each player the median salary). Predict how many games this team would win in a 162 game season.  \n",
    "\n",
    "In this problem we will be returning to the [Sean Lahman's Baseball Database](http://seanlahman.com/baseball-archive/statistics).  From this database, we will be extract five data sets containing information such as yearly stats and standing, batting statistics, fielding statistics, player names, player salaries and biographical information. You will explore the data in this database from before 2002 and create a metric for picking players. "
   ]
  },
  {
   "cell_type": "markdown",
   "metadata": {},
   "source": [
    "#### Problem 1(a) \n",
    "\n",
    "Load in [these CSV files](http://seanlahman.com/files/database/lahman-csv_2014-02-14.zip) from the [Sean Lahman's Baseball Database](http://seanlahman.com/baseball-archive/statistics). For this assignment, we will use the 'Teams.csv', 'Batting.csv', 'Salaries.csv', 'Fielding.csv', 'Master.csv' tables. Read these tables into separate pandas DataFrames with the following names. \n",
    "\n",
    "CSV file name | Name of pandas DataFrame\n",
    ":---: | :---: \n",
    "Teams.csv | teams\n",
    "Batting.csv | players\n",
    "Salaries.csv | salaries\n",
    "Fielding.csv | fielding\n",
    "Master.csv | master"
   ]
  },
  {
   "cell_type": "code",
   "execution_count": 80,
   "metadata": {
    "collapsed": false
   },
   "outputs": [],
   "source": [
    "teams = pd.read_csv(\"data/Teams.csv\")\n",
    "players = pd.read_csv(\"data/Batting.csv\")\n",
    "salaries = pd.read_csv(\"data/Salaries.csv\")\n",
    "fielding = pd.read_csv(\"data/Fielding.csv\")\n",
    "master = pd.read_csv(\"data/Master.csv\")"
   ]
  },
  {
   "cell_type": "code",
   "execution_count": null,
   "metadata": {
    "collapsed": false
   },
   "outputs": [],
   "source": []
  },
  {
   "cell_type": "markdown",
   "metadata": {},
   "source": [
    "#### Problem 1(b)\n",
    "\n",
    "Calculate the median salary for each player and create a pandas DataFrame called `medianSalaries` with four columns: (1) the player ID, (2) the first name of the player, (3) the last name of the player and (4) the median salary of the player. Show the head of the `medianSalaries` DataFrame.   "
   ]
  },
  {
   "cell_type": "code",
   "execution_count": 81,
   "metadata": {
    "collapsed": false
   },
   "outputs": [
    {
     "data": {
      "text/html": [
       "<div>\n",
       "<table border=\"1\" class=\"dataframe\">\n",
       "  <thead>\n",
       "    <tr style=\"text-align: right;\">\n",
       "      <th></th>\n",
       "      <th>nameFirst</th>\n",
       "      <th>nameLast</th>\n",
       "      <th>salary</th>\n",
       "    </tr>\n",
       "  </thead>\n",
       "  <tbody>\n",
       "    <tr>\n",
       "      <th>0</th>\n",
       "      <td>David</td>\n",
       "      <td>Aardsma</td>\n",
       "      <td>419000</td>\n",
       "    </tr>\n",
       "    <tr>\n",
       "      <th>1</th>\n",
       "      <td>Don</td>\n",
       "      <td>Aase</td>\n",
       "      <td>612500</td>\n",
       "    </tr>\n",
       "    <tr>\n",
       "      <th>2</th>\n",
       "      <td>Andy</td>\n",
       "      <td>Abad</td>\n",
       "      <td>327000</td>\n",
       "    </tr>\n",
       "    <tr>\n",
       "      <th>3</th>\n",
       "      <td>Fernando</td>\n",
       "      <td>Abad</td>\n",
       "      <td>451500</td>\n",
       "    </tr>\n",
       "    <tr>\n",
       "      <th>4</th>\n",
       "      <td>Jeff</td>\n",
       "      <td>Abbott</td>\n",
       "      <td>255000</td>\n",
       "    </tr>\n",
       "  </tbody>\n",
       "</table>\n",
       "</div>"
      ],
      "text/plain": [
       "  nameFirst nameLast  salary\n",
       "0     David  Aardsma  419000\n",
       "1       Don     Aase  612500\n",
       "2      Andy     Abad  327000\n",
       "3  Fernando     Abad  451500\n",
       "4      Jeff   Abbott  255000"
      ]
     },
     "execution_count": 81,
     "metadata": {},
     "output_type": "execute_result"
    }
   ],
   "source": [
    "medians = salaries.groupby([\"playerID\"]).median()\n",
    "merged = pd.merge(medians, master, left_index=True, right_on=\"playerID\")\n",
    "medianSalaries=merged[[\"nameFirst\", \"nameLast\", \"salary\"]]\n",
    "medianSalaries.reset_index(inplace=True, drop=True)\n",
    "medianSalaries.head()"
   ]
  },
  {
   "cell_type": "markdown",
   "metadata": {},
   "source": [
    "#### Problem 1(c)\n",
    "\n",
    "Now, consider only team/season combinations in which the teams played 162 Games. Exclude all data from before 1947. Compute the per plate appearance rates for singles, doubles, triples, HR, and BB. Create a new pandas DataFrame called `stats` that has the teamID, yearID, wins and these rates.\n",
    "\n",
    "**Hint**: Singles are hits that are not doubles, triples, nor HR. Plate appearances are base on balls plus at bats."
   ]
  },
  {
   "cell_type": "code",
   "execution_count": 82,
   "metadata": {
    "collapsed": false
   },
   "outputs": [
    {
     "data": {
      "text/html": [
       "<div>\n",
       "<table border=\"1\" class=\"dataframe\">\n",
       "  <thead>\n",
       "    <tr style=\"text-align: right;\">\n",
       "      <th></th>\n",
       "      <th>teamID</th>\n",
       "      <th>yearID</th>\n",
       "      <th>W</th>\n",
       "      <th>2B</th>\n",
       "      <th>3B</th>\n",
       "      <th>HR</th>\n",
       "      <th>BB</th>\n",
       "      <th>S</th>\n",
       "    </tr>\n",
       "  </thead>\n",
       "  <tbody>\n",
       "    <tr>\n",
       "      <th>1366</th>\n",
       "      <td>LAA</td>\n",
       "      <td>1961</td>\n",
       "      <td>70</td>\n",
       "      <td>0.035708</td>\n",
       "      <td>0.003604</td>\n",
       "      <td>0.030958</td>\n",
       "      <td>0.111548</td>\n",
       "      <td>0.147748</td>\n",
       "    </tr>\n",
       "    <tr>\n",
       "      <th>1367</th>\n",
       "      <td>KC1</td>\n",
       "      <td>1961</td>\n",
       "      <td>61</td>\n",
       "      <td>0.035982</td>\n",
       "      <td>0.007829</td>\n",
       "      <td>0.014993</td>\n",
       "      <td>0.096618</td>\n",
       "      <td>0.164751</td>\n",
       "    </tr>\n",
       "    <tr>\n",
       "      <th>1395</th>\n",
       "      <td>CHN</td>\n",
       "      <td>1962</td>\n",
       "      <td>59</td>\n",
       "      <td>0.032461</td>\n",
       "      <td>0.009275</td>\n",
       "      <td>0.020868</td>\n",
       "      <td>0.083471</td>\n",
       "      <td>0.168930</td>\n",
       "    </tr>\n",
       "    <tr>\n",
       "      <th>1394</th>\n",
       "      <td>HOU</td>\n",
       "      <td>1962</td>\n",
       "      <td>64</td>\n",
       "      <td>0.028095</td>\n",
       "      <td>0.007767</td>\n",
       "      <td>0.017353</td>\n",
       "      <td>0.081474</td>\n",
       "      <td>0.173195</td>\n",
       "    </tr>\n",
       "    <tr>\n",
       "      <th>1391</th>\n",
       "      <td>ML1</td>\n",
       "      <td>1962</td>\n",
       "      <td>86</td>\n",
       "      <td>0.033780</td>\n",
       "      <td>0.006292</td>\n",
       "      <td>0.029972</td>\n",
       "      <td>0.096208</td>\n",
       "      <td>0.157808</td>\n",
       "    </tr>\n",
       "  </tbody>\n",
       "</table>\n",
       "</div>"
      ],
      "text/plain": [
       "     teamID  yearID   W        2B        3B        HR        BB         S\n",
       "1366    LAA    1961  70  0.035708  0.003604  0.030958  0.111548  0.147748\n",
       "1367    KC1    1961  61  0.035982  0.007829  0.014993  0.096618  0.164751\n",
       "1395    CHN    1962  59  0.032461  0.009275  0.020868  0.083471  0.168930\n",
       "1394    HOU    1962  64  0.028095  0.007767  0.017353  0.081474  0.173195\n",
       "1391    ML1    1962  86  0.033780  0.006292  0.029972  0.096208  0.157808"
      ]
     },
     "execution_count": 82,
     "metadata": {},
     "output_type": "execute_result"
    }
   ],
   "source": [
    "g_filter = teams[\"G\"] == 162\n",
    "year_filter = teams[\"yearID\"] > 1947\n",
    "filtered_teams = teams[g_filter & year_filter]\n",
    "\n",
    "stats = filtered_teams[[\"teamID\", \"yearID\", \"W\", \"2B\", \"3B\", \"HR\", \"BB\", \"H\", \"AB\"]].copy()\n",
    "stats[\"S\"] = stats[\"H\"] - (stats[\"2B\"] + stats[\"3B\"] + stats[\"HR\"])\n",
    "\n",
    "## Calculate PA = AB + BB\n",
    "stats['PA'] = stats['AB'] + stats['BB']\n",
    "\n",
    "## For each of singles, doubles, triples, HR and BB, calculate plate appearance rate\n",
    "for i in ['S','2B','3B','HR','BB']:\n",
    "   stats[i] = stats[i]/stats['PA']\n",
    "\n",
    "stats.drop('H', axis=1, inplace=True)\n",
    "stats.drop('PA', axis=1, inplace=True)\n",
    "stats.drop('AB', axis=1, inplace=True)\n",
    "stats.sort(\"yearID\", inplace=True)\n",
    "stats.tail()\n",
    "stats.head()"
   ]
  },
  {
   "cell_type": "markdown",
   "metadata": {},
   "source": [
    "#### Problem 1(d)\n",
    "\n",
    "Is there a noticeable time trend in the rates computed computed in Problem 1(c)? "
   ]
  },
  {
   "cell_type": "code",
   "execution_count": 104,
   "metadata": {
    "collapsed": false
   },
   "outputs": [
    {
     "data": {
      "text/plain": [
       "<matplotlib.axes._subplots.AxesSubplot at 0x10f2de850>"
      ]
     },
     "execution_count": 104,
     "metadata": {},
     "output_type": "execute_result"
    },
    {
     "data": {
      "image/png": "[encoded data removed]",
      "text/plain": [
       "<matplotlib.figure.Figure at 0x10edc2810>"
      ]
     },
     "metadata": {},
     "output_type": "display_data"
    }
   ],
   "source": [
    "stats[stats[\"teamID\"]==\"LAA\"][[\"HR\"]].plot()"
   ]
  },
  {
   "cell_type": "markdown",
   "metadata": {},
   "source": [
    "#### Problem 1(e) \n",
    "\n",
    "Using the `stats` DataFrame from Problem 1(c), adjust the singles per PA rates so that the average across teams for each year is 0. Do the same for the doubles, triples, HR, and BB rates. "
   ]
  },
  {
   "cell_type": "code",
   "execution_count": 105,
   "metadata": {
    "collapsed": false
   },
   "outputs": [
    {
     "data": {
      "text/html": [
       "<div>\n",
       "<table border=\"1\" class=\"dataframe\">\n",
       "  <thead>\n",
       "    <tr style=\"text-align: right;\">\n",
       "      <th></th>\n",
       "      <th>S</th>\n",
       "      <th>2B</th>\n",
       "      <th>3B</th>\n",
       "      <th>HR</th>\n",
       "      <th>BB</th>\n",
       "    </tr>\n",
       "  </thead>\n",
       "  <tbody>\n",
       "    <tr>\n",
       "      <th>2697</th>\n",
       "      <td>0.173099</td>\n",
       "      <td>0.045614</td>\n",
       "      <td>0.003676</td>\n",
       "      <td>0.031245</td>\n",
       "      <td>0.075021</td>\n",
       "    </tr>\n",
       "  </tbody>\n",
       "</table>\n",
       "</div>"
      ],
      "text/plain": [
       "             S        2B        3B        HR        BB\n",
       "2697  0.173099  0.045614  0.003676  0.031245  0.075021"
      ]
     },
     "execution_count": 105,
     "metadata": {},
     "output_type": "execute_result"
    }
   ],
   "source": [
    "tf = stats['teamID']==\"LAA\"\n",
    "yf = stats['yearID']==2012\n",
    "stats[ yf & tf ][['S', '2B', '3B', 'HR', 'BB']]"
   ]
  },
  {
   "cell_type": "code",
   "execution_count": 92,
   "metadata": {
    "collapsed": false
   },
   "outputs": [],
   "source": [
    "years = stats['yearID'].unique()\n",
    "\n",
    "year_stats_collection = []\n",
    "\n",
    "for year in years:\n",
    "    year_selector = stats[\"yearID\"] == year\n",
    "    year_stats = stats[year_selector]\n",
    "    year_stats[['S', '2B', '3B', 'HR', 'BB']] = stats[year_selector][['S', '2B', '3B', 'HR', 'BB']].apply(lambda df: (df - df.mean()) / df.std())\n",
    "    year_stats_collection.append(year_stats)\n",
    "\n",
    "stats_adj = pd.concat(year_stats_collection)"
   ]
  },
  {
   "cell_type": "code",
   "execution_count": 108,
   "metadata": {
    "collapsed": false
   },
   "outputs": [
    {
     "data": {
      "text/plain": [
       "S     2.812565e-16\n",
       "2B    3.650321e-15\n",
       "3B    3.589721e-16\n",
       "HR   -3.330669e-16\n",
       "BB   -2.531308e-15\n",
       "dtype: float64"
      ]
     },
     "execution_count": 108,
     "metadata": {},
     "output_type": "execute_result"
    },
    {
     "data": {
      "image/png": "[encoded data removed]",
      "text/plain": [
       "<matplotlib.figure.Figure at 0x10ef3ce90>"
      ]
     },
     "metadata": {},
     "output_type": "display_data"
    },
    {
     "data": {
      "image/png": "[encoded data removed]",
      "text/plain": [
       "<matplotlib.figure.Figure at 0x10d00a110>"
      ]
     },
     "metadata": {},
     "output_type": "display_data"
    }
   ],
   "source": [
    "stats_adj[stats['yearID']==2012][['2B']].plot(kind=\"hist\")\n",
    "stats_adj[stats['yearID']==2012][['HR']].plot(kind=\"hist\")\n",
    "stats_adj.head()\n",
    "tf = stats_adj['teamID']==\"LAA\"\n",
    "yf = stats_adj['yearID']==2012\n",
    "stats_adj[ yf ][['S', '2B', '3B', 'HR', 'BB']].mean()"
   ]
  },
  {
   "cell_type": "markdown",
   "metadata": {},
   "source": [
    "#### Problem 1(f)\n",
    "\n",
    "Build a simple linear regression model to predict the number of wins from the average adjusted singles, double, triples, HR, and BB rates. To decide which of these terms to include fit the model to data from 2002 and compute the average squared residuals from predictions to years past 2002. Use the fitted model to define a new sabermetric summary: offensive predicted wins (OPW). Hint: the new summary should be a linear combination of one to five of the five rates.\n"
   ]
  },
  {
   "cell_type": "code",
   "execution_count": 9,
   "metadata": {
    "collapsed": false
   },
   "outputs": [],
   "source": [
    "from sklearn import linear_model\n",
    "from sklearn.cross_validation import train_test_split"
   ]
  },
  {
   "cell_type": "code",
   "execution_count": 17,
   "metadata": {
    "collapsed": false
   },
   "outputs": [],
   "source": [
    "# labels=stats_adj[['S', '2B', '3B', 'HR', 'BB']].values\n",
    "training_selector = stats_adj['yearID']>=2002\n",
    "test_selector = stats_adj['yearID']<2002\n",
    "labels=[\"S\", \"2B\", \"3B\", \"HR\", \"BB\"]\n",
    "\n",
    "training_data = stats_adj[training_selector]\n",
    "test_data = stats_adj[test_selector]\n",
    "X_train = training_data[labels].values\n",
    "y_train = training_data[['W']].values\n",
    "X_test = test_data[labels].values\n",
    "y_test = test_data[['W']].values\n",
    "# (stats_adj.shape, X_train.shape, y_train.shape, X_test.shape, y_test.shape)"
   ]
  },
  {
   "cell_type": "code",
   "execution_count": 11,
   "metadata": {
    "collapsed": false
   },
   "outputs": [],
   "source": [
    "labels=[\"S\", \"2B\", \"3B\", \"HR\", \"BB\"]\n",
    "data = stats_adj[labels].values\n",
    "target = stats_adj[['W']].values\n",
    "X_train, X_test, y_train, y_test = train_test_split(data, target, test_size=0.4, random_state=9)"
   ]
  },
  {
   "cell_type": "code",
   "execution_count": 12,
   "metadata": {
    "collapsed": false
   },
   "outputs": [
    {
     "data": {
      "text/plain": [
       "((394, 5), (394, 1))"
      ]
     },
     "execution_count": 12,
     "metadata": {},
     "output_type": "execute_result"
    }
   ],
   "source": [
    "(X_test.shape, y_test.shape)"
   ]
  },
  {
   "cell_type": "code",
   "execution_count": 18,
   "metadata": {
    "collapsed": false
   },
   "outputs": [
    {
     "data": {
      "text/plain": [
       "LinearRegression(copy_X=True, fit_intercept=True, n_jobs=1, normalize=False)"
      ]
     },
     "execution_count": 18,
     "metadata": {},
     "output_type": "execute_result"
    }
   ],
   "source": [
    "regr = linear_model.LinearRegression()\n",
    "regr.fit(X_train, y_train)"
   ]
  },
  {
   "cell_type": "code",
   "execution_count": 19,
   "metadata": {
    "collapsed": false
   },
   "outputs": [
    {
     "name": "stdout",
     "output_type": "stream",
     "text": [
      "('Coefficients: \\n', array([[ 3.31159476,  0.90636334,  0.26603641,  4.05150534,  3.85851507]]))\n",
      "Residual sum of squares: 84.74\n",
      "Variance score: 0.33\n"
     ]
    }
   ],
   "source": [
    "#  The coefficients\n",
    "print('Coefficients: \\n', regr.coef_)\n",
    "# The mean square error\n",
    "print(\"Residual sum of squares: %.2f\"\n",
    "      % np.mean((regr.predict(X_test) - y_test) ** 2))\n",
    "# Explained variance score: 1 is perfect prediction\n",
    "print('Variance score: %.2f' % regr.score(X_test, y_test))\n",
    "\n",
    "# Plot outputs\n",
    "# plt.scatter(X_test, y_test,  color='black')\n",
    "# plt.plot(X_test, regr.predict(X_test), color='blue',linewidth=3)\n",
    "\n",
    "# plt.xticks(())\n",
    "# plt.yticks(())\n",
    "\n",
    "# plt.show()"
   ]
  },
  {
   "cell_type": "code",
   "execution_count": 20,
   "metadata": {
    "collapsed": false
   },
   "outputs": [
    {
     "data": {
      "text/html": [
       "<div>\n",
       "<table border=\"1\" class=\"dataframe\">\n",
       "  <thead>\n",
       "    <tr style=\"text-align: right;\">\n",
       "      <th></th>\n",
       "      <th>0</th>\n",
       "      <th>1</th>\n",
       "      <th>2</th>\n",
       "      <th>3</th>\n",
       "      <th>4</th>\n",
       "    </tr>\n",
       "  </thead>\n",
       "  <tbody>\n",
       "    <tr>\n",
       "      <th>0</th>\n",
       "      <td>3.311595</td>\n",
       "      <td>0.906363</td>\n",
       "      <td>0.266036</td>\n",
       "      <td>4.051505</td>\n",
       "      <td>3.858515</td>\n",
       "    </tr>\n",
       "  </tbody>\n",
       "</table>\n",
       "</div>"
      ],
      "text/plain": [
       "          0         1         2         3         4\n",
       "0  3.311595  0.906363  0.266036  4.051505  3.858515"
      ]
     },
     "execution_count": 20,
     "metadata": {},
     "output_type": "execute_result"
    }
   ],
   "source": [
    "pd.DataFrame(regr.coef_)"
   ]
  },
  {
   "cell_type": "code",
   "execution_count": 21,
   "metadata": {
    "collapsed": false
   },
   "outputs": [
    {
     "data": {
      "text/plain": [
       "<matplotlib.collections.PathCollection at 0x10e3352d0>"
      ]
     },
     "execution_count": 21,
     "metadata": {},
     "output_type": "execute_result"
    },
    {
     "data": {
      "image/png": "[encoded data removed]",
      "text/plain": [
       "<matplotlib.figure.Figure at 0x10d56c610>"
      ]
     },
     "metadata": {},
     "output_type": "display_data"
    }
   ],
   "source": [
    "plt.scatter(stats_adj[[\"HR\"]].values, stats_adj[[\"W\"]].values,  color='black', marker=\"x\")\n",
    "plt.scatter(stats_adj[[\"3B\"]].values, stats_adj[[\"W\"]].values,  color='red', marker=\"x\")\n",
    "plt.scatter(stats_adj[[\"2B\"]].values, stats_adj[[\"W\"]].values,  color='blue', marker=\"x\")\n",
    "plt.scatter(stats_adj[[\"S\"]].values, stats_adj[[\"W\"]].values,  color='green', marker=\"x\")\n",
    "plt.scatter(stats_adj[[\"BB\"]].values, stats_adj[[\"W\"]].values,  color='purple', marker=\"x\")"
   ]
  },
  {
   "cell_type": "markdown",
   "metadata": {},
   "source": [
    "** Your answer here: **"
   ]
  },
  {
   "cell_type": "markdown",
   "metadata": {},
   "source": [
    "#### Problem 1(g)\n",
    "\n",
    "Now we will create a similar database for individual players. Consider only player/year combinations in which the player had at least 500 plate appearances. Consider only the years we considered for the calculations above (after 1947 and seasons with 162 games). For each player/year compute singles, doubles, triples, HR, BB per plate appearance rates. Create a new pandas DataFrame called `playerstats` that has the playerID, yearID and the rates of these stats.  Remove the average for each year as for these rates as done in Problem 1(e). "
   ]
  },
  {
   "cell_type": "code",
   "execution_count": 32,
   "metadata": {
    "collapsed": false
   },
   "outputs": [
    {
     "data": {
      "text/html": [
       "<div>\n",
       "<table border=\"1\" class=\"dataframe\">\n",
       "  <thead>\n",
       "    <tr style=\"text-align: right;\">\n",
       "      <th></th>\n",
       "      <th>playerID</th>\n",
       "      <th>yearID</th>\n",
       "      <th>2B</th>\n",
       "      <th>3B</th>\n",
       "      <th>HR</th>\n",
       "      <th>BB</th>\n",
       "      <th>S</th>\n",
       "    </tr>\n",
       "  </thead>\n",
       "  <tbody>\n",
       "    <tr>\n",
       "      <th>14211</th>\n",
       "      <td>castrst01</td>\n",
       "      <td>2012</td>\n",
       "      <td>29</td>\n",
       "      <td>12</td>\n",
       "      <td>14</td>\n",
       "      <td>36</td>\n",
       "      <td>128</td>\n",
       "    </tr>\n",
       "    <tr>\n",
       "      <th>97506</th>\n",
       "      <td>pencehu01</td>\n",
       "      <td>2013</td>\n",
       "      <td>35</td>\n",
       "      <td>5</td>\n",
       "      <td>27</td>\n",
       "      <td>52</td>\n",
       "      <td>111</td>\n",
       "    </tr>\n",
       "    <tr>\n",
       "      <th>96755</th>\n",
       "      <td>butlebi03</td>\n",
       "      <td>2013</td>\n",
       "      <td>27</td>\n",
       "      <td>0</td>\n",
       "      <td>15</td>\n",
       "      <td>79</td>\n",
       "      <td>126</td>\n",
       "    </tr>\n",
       "    <tr>\n",
       "      <th>96968</th>\n",
       "      <td>fieldpr01</td>\n",
       "      <td>2013</td>\n",
       "      <td>36</td>\n",
       "      <td>0</td>\n",
       "      <td>25</td>\n",
       "      <td>75</td>\n",
       "      <td>113</td>\n",
       "    </tr>\n",
       "    <tr>\n",
       "      <th>97826</th>\n",
       "      <td>vottojo01</td>\n",
       "      <td>2013</td>\n",
       "      <td>30</td>\n",
       "      <td>3</td>\n",
       "      <td>24</td>\n",
       "      <td>135</td>\n",
       "      <td>120</td>\n",
       "    </tr>\n",
       "  </tbody>\n",
       "</table>\n",
       "</div>"
      ],
      "text/plain": [
       "        playerID  yearID  2B  3B  HR   BB    S\n",
       "14211  castrst01    2012  29  12  14   36  128\n",
       "97506  pencehu01    2013  35   5  27   52  111\n",
       "96755  butlebi03    2013  27   0  15   79  126\n",
       "96968  fieldpr01    2013  36   0  25   75  113\n",
       "97826  vottojo01    2013  30   3  24  135  120"
      ]
     },
     "execution_count": 32,
     "metadata": {},
     "output_type": "execute_result"
    }
   ],
   "source": [
    "appearances_selector = players[\"AB\"] >= 500\n",
    "year_selector = players[\"yearID\"] > 1947\n",
    "games_selector = players[\"G\"] == 162\n",
    "\n",
    "\n",
    "filtered_players = players[appearances_selector & year_selector & games_selector]\n",
    "\n",
    "playerstats = filtered_players[[\"playerID\", \"yearID\", \"2B\", \"3B\", \"HR\", \"BB\", \"H\"]].copy()\n",
    "playerstats[\"S\"] = playerstats[\"H\"] - (playerstats[\"2B\"] + playerstats[\"3B\"] + playerstats[\"HR\"])\n",
    "playerstats.drop('H', axis=1, inplace=True)\n",
    "playerstats.index\n",
    "playerstats.sort(\"yearID\", inplace=True)\n",
    "playerstats.tail()"
   ]
  },
  {
   "cell_type": "code",
   "execution_count": 58,
   "metadata": {
    "collapsed": false
   },
   "outputs": [],
   "source": [
    "years = playerstats['yearID'].unique()\n",
    "\n",
    "for year in years:\n",
    "    year_selector = playerstats[\"yearID\"] == year\n",
    "    year_stats = playerstats[year_selector]\n",
    "    \n",
    "    temp = playerstats[year_selector][['S', '2B', '3B', 'HR', 'BB']].copy()\n",
    "    playerstats[year_selector][['S', '2B', '3B', 'HR', 'BB']] = (temp - temp.mean()) / temp.std()\n"
   ]
  },
  {
   "cell_type": "code",
   "execution_count": 59,
   "metadata": {
    "collapsed": false
   },
   "outputs": [
    {
     "data": {
      "text/html": [
       "<div>\n",
       "<table border=\"1\" class=\"dataframe\">\n",
       "  <thead>\n",
       "    <tr style=\"text-align: right;\">\n",
       "      <th></th>\n",
       "      <th>playerID</th>\n",
       "      <th>yearID</th>\n",
       "      <th>2B</th>\n",
       "      <th>3B</th>\n",
       "      <th>HR</th>\n",
       "      <th>BB</th>\n",
       "      <th>S</th>\n",
       "    </tr>\n",
       "  </thead>\n",
       "  <tbody>\n",
       "    <tr>\n",
       "      <th>72882</th>\n",
       "      <td>richabo01</td>\n",
       "      <td>1961</td>\n",
       "      <td>NaN</td>\n",
       "      <td>-0.707107</td>\n",
       "      <td>-0.707107</td>\n",
       "      <td>-0.707107</td>\n",
       "      <td>0.707107</td>\n",
       "    </tr>\n",
       "    <tr>\n",
       "      <th>94941</th>\n",
       "      <td>woodja01</td>\n",
       "      <td>1961</td>\n",
       "      <td>NaN</td>\n",
       "      <td>0.707107</td>\n",
       "      <td>0.707107</td>\n",
       "      <td>0.707107</td>\n",
       "      <td>-0.707107</td>\n",
       "    </tr>\n",
       "    <tr>\n",
       "      <th>14401</th>\n",
       "      <td>cepedor01</td>\n",
       "      <td>1962</td>\n",
       "      <td>-0.467449</td>\n",
       "      <td>-1.214868</td>\n",
       "      <td>0.310038</td>\n",
       "      <td>-1.159496</td>\n",
       "      <td>0.780237</td>\n",
       "    </tr>\n",
       "    <tr>\n",
       "      <th>79873</th>\n",
       "      <td>siebeno01</td>\n",
       "      <td>1962</td>\n",
       "      <td>-0.557923</td>\n",
       "      <td>0.520658</td>\n",
       "      <td>-0.535519</td>\n",
       "      <td>1.570931</td>\n",
       "      <td>0.780237</td>\n",
       "    </tr>\n",
       "    <tr>\n",
       "      <th>73959</th>\n",
       "      <td>robinbr01</td>\n",
       "      <td>1962</td>\n",
       "      <td>-0.196027</td>\n",
       "      <td>1.561973</td>\n",
       "      <td>-0.704631</td>\n",
       "      <td>-0.972481</td>\n",
       "      <td>0.906761</td>\n",
       "    </tr>\n",
       "    <tr>\n",
       "      <th>76945</th>\n",
       "      <td>santoro01</td>\n",
       "      <td>1962</td>\n",
       "      <td>-1.010293</td>\n",
       "      <td>-0.173553</td>\n",
       "      <td>-1.211965</td>\n",
       "      <td>-0.112209</td>\n",
       "      <td>-1.307423</td>\n",
       "    </tr>\n",
       "    <tr>\n",
       "      <th>74049</th>\n",
       "      <td>robinfr02</td>\n",
       "      <td>1962</td>\n",
       "      <td>1.794400</td>\n",
       "      <td>-0.867763</td>\n",
       "      <td>0.648260</td>\n",
       "      <td>0.299225</td>\n",
       "      <td>-0.042175</td>\n",
       "    </tr>\n",
       "    <tr>\n",
       "      <th>55480</th>\n",
       "      <td>mayswi01</td>\n",
       "      <td>1962</td>\n",
       "      <td>0.437291</td>\n",
       "      <td>0.173553</td>\n",
       "      <td>1.493817</td>\n",
       "      <td>0.374031</td>\n",
       "      <td>-1.117636</td>\n",
       "    </tr>\n",
       "    <tr>\n",
       "      <th>76946</th>\n",
       "      <td>santoro01</td>\n",
       "      <td>1963</td>\n",
       "      <td>-0.293105</td>\n",
       "      <td>-0.800641</td>\n",
       "      <td>0.132453</td>\n",
       "      <td>-0.307339</td>\n",
       "      <td>-0.872872</td>\n",
       "    </tr>\n",
       "    <tr>\n",
       "      <th>92500</th>\n",
       "      <td>whitebi03</td>\n",
       "      <td>1963</td>\n",
       "      <td>-0.820695</td>\n",
       "      <td>-0.320256</td>\n",
       "      <td>0.927173</td>\n",
       "      <td>1.117598</td>\n",
       "      <td>1.091089</td>\n",
       "    </tr>\n",
       "    <tr>\n",
       "      <th>69165</th>\n",
       "      <td>pinsova01</td>\n",
       "      <td>1963</td>\n",
       "      <td>1.113800</td>\n",
       "      <td>1.120897</td>\n",
       "      <td>-1.059626</td>\n",
       "      <td>-0.810258</td>\n",
       "      <td>-0.218218</td>\n",
       "    </tr>\n",
       "    <tr>\n",
       "      <th>40617</th>\n",
       "      <td>howsedi01</td>\n",
       "      <td>1964</td>\n",
       "      <td>-0.678929</td>\n",
       "      <td>-0.807352</td>\n",
       "      <td>-1.400100</td>\n",
       "      <td>1.007909</td>\n",
       "      <td>0.333816</td>\n",
       "    </tr>\n",
       "    <tr>\n",
       "      <th>12534</th>\n",
       "      <td>callijo01</td>\n",
       "      <td>1964</td>\n",
       "      <td>0.248389</td>\n",
       "      <td>0.742764</td>\n",
       "      <td>0.923029</td>\n",
       "      <td>-1.128057</td>\n",
       "      <td>-0.619944</td>\n",
       "    </tr>\n",
       "    <tr>\n",
       "      <th>55599</th>\n",
       "      <td>mcauldi01</td>\n",
       "      <td>1964</td>\n",
       "      <td>-1.341299</td>\n",
       "      <td>-0.032294</td>\n",
       "      <td>0.342247</td>\n",
       "      <td>1.061308</td>\n",
       "      <td>-1.497403</td>\n",
       "    </tr>\n",
       "    <tr>\n",
       "      <th>996</th>\n",
       "      <td>allendi01</td>\n",
       "      <td>1964</td>\n",
       "      <td>1.308181</td>\n",
       "      <td>1.517822</td>\n",
       "      <td>0.757091</td>\n",
       "      <td>0.527317</td>\n",
       "      <td>-0.123989</td>\n",
       "    </tr>\n",
       "    <tr>\n",
       "      <th>93376</th>\n",
       "      <td>willibi01</td>\n",
       "      <td>1964</td>\n",
       "      <td>1.440655</td>\n",
       "      <td>-1.324058</td>\n",
       "      <td>1.088967</td>\n",
       "      <td>0.100123</td>\n",
       "      <td>0.104914</td>\n",
       "    </tr>\n",
       "    <tr>\n",
       "      <th>55502</th>\n",
       "      <td>mazerbi01</td>\n",
       "      <td>1964</td>\n",
       "      <td>-0.811403</td>\n",
       "      <td>0.226059</td>\n",
       "      <td>-0.819318</td>\n",
       "      <td>-1.501851</td>\n",
       "      <td>-0.123989</td>\n",
       "    </tr>\n",
       "    <tr>\n",
       "      <th>27402</th>\n",
       "      <td>floodcu01</td>\n",
       "      <td>1964</td>\n",
       "      <td>-0.413981</td>\n",
       "      <td>-1.065705</td>\n",
       "      <td>-1.234162</td>\n",
       "      <td>-0.754263</td>\n",
       "      <td>2.050584</td>\n",
       "    </tr>\n",
       "    <tr>\n",
       "      <th>8779</th>\n",
       "      <td>boyerke01</td>\n",
       "      <td>1964</td>\n",
       "      <td>0.248389</td>\n",
       "      <td>0.742764</td>\n",
       "      <td>0.342247</td>\n",
       "      <td>0.687514</td>\n",
       "      <td>-0.123989</td>\n",
       "    </tr>\n",
       "    <tr>\n",
       "      <th>35520</th>\n",
       "      <td>hansero02</td>\n",
       "      <td>1965</td>\n",
       "      <td>-0.762484</td>\n",
       "      <td>-0.468487</td>\n",
       "      <td>-0.595643</td>\n",
       "      <td>-0.515516</td>\n",
       "      <td>-1.237091</td>\n",
       "    </tr>\n",
       "    <tr>\n",
       "      <th>75123</th>\n",
       "      <td>rosepe01</td>\n",
       "      <td>1965</td>\n",
       "      <td>1.317017</td>\n",
       "      <td>0.792825</td>\n",
       "      <td>-0.595643</td>\n",
       "      <td>0.023977</td>\n",
       "      <td>1.535700</td>\n",
       "    </tr>\n",
       "    <tr>\n",
       "      <th>15952</th>\n",
       "      <td>clenddo01</td>\n",
       "      <td>1965</td>\n",
       "      <td>0.797142</td>\n",
       "      <td>1.333387</td>\n",
       "      <td>-0.125399</td>\n",
       "      <td>-1.234840</td>\n",
       "      <td>0.042658</td>\n",
       "    </tr>\n",
       "    <tr>\n",
       "      <th>92152</th>\n",
       "      <td>wertdo01</td>\n",
       "      <td>1965</td>\n",
       "      <td>-0.935775</td>\n",
       "      <td>-0.828862</td>\n",
       "      <td>-0.438895</td>\n",
       "      <td>0.263752</td>\n",
       "      <td>-0.010665</td>\n",
       "    </tr>\n",
       "    <tr>\n",
       "      <th>16343</th>\n",
       "      <td>colavro01</td>\n",
       "      <td>1965</td>\n",
       "      <td>-0.415900</td>\n",
       "      <td>-0.828862</td>\n",
       "      <td>1.755581</td>\n",
       "      <td>1.462626</td>\n",
       "      <td>-0.330602</td>\n",
       "    </tr>\n",
       "    <tr>\n",
       "      <th>78233</th>\n",
       "      <td>scottge02</td>\n",
       "      <td>1966</td>\n",
       "      <td>-1.203059</td>\n",
       "      <td>0.613572</td>\n",
       "      <td>0.209571</td>\n",
       "      <td>-0.078446</td>\n",
       "      <td>-0.827981</td>\n",
       "    </tr>\n",
       "    <tr>\n",
       "      <th>55504</th>\n",
       "      <td>mazerbi01</td>\n",
       "      <td>1966</td>\n",
       "      <td>-0.451147</td>\n",
       "      <td>0.613572</td>\n",
       "      <td>-0.838285</td>\n",
       "      <td>-1.412036</td>\n",
       "      <td>0.903252</td>\n",
       "    </tr>\n",
       "    <tr>\n",
       "      <th>28677</th>\n",
       "      <td>fregoji01</td>\n",
       "      <td>1966</td>\n",
       "      <td>1.428632</td>\n",
       "      <td>0.613572</td>\n",
       "      <td>-1.124064</td>\n",
       "      <td>0.000000</td>\n",
       "      <td>-0.301084</td>\n",
       "    </tr>\n",
       "    <tr>\n",
       "      <th>45975</th>\n",
       "      <td>killeha01</td>\n",
       "      <td>1966</td>\n",
       "      <td>0.488743</td>\n",
       "      <td>-1.687323</td>\n",
       "      <td>1.352688</td>\n",
       "      <td>1.412036</td>\n",
       "      <td>-0.978523</td>\n",
       "    </tr>\n",
       "    <tr>\n",
       "      <th>93378</th>\n",
       "      <td>willibi01</td>\n",
       "      <td>1966</td>\n",
       "      <td>-0.263169</td>\n",
       "      <td>-0.153393</td>\n",
       "      <td>0.400091</td>\n",
       "      <td>0.078446</td>\n",
       "      <td>1.204336</td>\n",
       "    </tr>\n",
       "    <tr>\n",
       "      <th>93379</th>\n",
       "      <td>willibi01</td>\n",
       "      <td>1967</td>\n",
       "      <td>NaN</td>\n",
       "      <td>NaN</td>\n",
       "      <td>NaN</td>\n",
       "      <td>NaN</td>\n",
       "      <td>NaN</td>\n",
       "    </tr>\n",
       "    <tr>\n",
       "      <th>...</th>\n",
       "      <td>...</td>\n",
       "      <td>...</td>\n",
       "      <td>...</td>\n",
       "      <td>...</td>\n",
       "      <td>...</td>\n",
       "      <td>...</td>\n",
       "      <td>...</td>\n",
       "    </tr>\n",
       "    <tr>\n",
       "      <th>49518</th>\n",
       "      <td>leeca01</td>\n",
       "      <td>2005</td>\n",
       "      <td>0.491026</td>\n",
       "      <td>-1.010779</td>\n",
       "      <td>0.413990</td>\n",
       "      <td>-0.495809</td>\n",
       "      <td>-1.339907</td>\n",
       "    </tr>\n",
       "    <tr>\n",
       "      <th>68990</th>\n",
       "      <td>pierrju01</td>\n",
       "      <td>2005</td>\n",
       "      <td>-1.627124</td>\n",
       "      <td>1.845770</td>\n",
       "      <td>-1.844139</td>\n",
       "      <td>-1.130444</td>\n",
       "      <td>1.408620</td>\n",
       "    </tr>\n",
       "    <tr>\n",
       "      <th>96064</th>\n",
       "      <td>youngmi02</td>\n",
       "      <td>2006</td>\n",
       "      <td>0.996802</td>\n",
       "      <td>-0.498058</td>\n",
       "      <td>-0.695187</td>\n",
       "      <td>-0.180685</td>\n",
       "      <td>0.743211</td>\n",
       "    </tr>\n",
       "    <tr>\n",
       "      <th>28322</th>\n",
       "      <td>francje02</td>\n",
       "      <td>2006</td>\n",
       "      <td>-1.430194</td>\n",
       "      <td>0.062257</td>\n",
       "      <td>0.636022</td>\n",
       "      <td>-1.148641</td>\n",
       "      <td>-0.612406</td>\n",
       "    </tr>\n",
       "    <tr>\n",
       "      <th>85927</th>\n",
       "      <td>tejadmi01</td>\n",
       "      <td>2006</td>\n",
       "      <td>-0.303374</td>\n",
       "      <td>-1.058374</td>\n",
       "      <td>0.192286</td>\n",
       "      <td>-0.258121</td>\n",
       "      <td>0.921581</td>\n",
       "    </tr>\n",
       "    <tr>\n",
       "      <th>80390</th>\n",
       "      <td>sizemgr01</td>\n",
       "      <td>2006</td>\n",
       "      <td>1.083480</td>\n",
       "      <td>0.996116</td>\n",
       "      <td>0.547275</td>\n",
       "      <td>0.980862</td>\n",
       "      <td>-1.040495</td>\n",
       "    </tr>\n",
       "    <tr>\n",
       "      <th>85909</th>\n",
       "      <td>teixema01</td>\n",
       "      <td>2006</td>\n",
       "      <td>0.390053</td>\n",
       "      <td>-0.871602</td>\n",
       "      <td>0.991011</td>\n",
       "      <td>1.406762</td>\n",
       "      <td>-1.040495</td>\n",
       "    </tr>\n",
       "    <tr>\n",
       "      <th>68991</th>\n",
       "      <td>pierrju01</td>\n",
       "      <td>2006</td>\n",
       "      <td>-0.736767</td>\n",
       "      <td>1.369660</td>\n",
       "      <td>-1.671407</td>\n",
       "      <td>-0.800177</td>\n",
       "      <td>1.028604</td>\n",
       "    </tr>\n",
       "    <tr>\n",
       "      <th>49521</th>\n",
       "      <td>leeca01</td>\n",
       "      <td>2007</td>\n",
       "      <td>0.888301</td>\n",
       "      <td>-0.648975</td>\n",
       "      <td>1.065354</td>\n",
       "      <td>0.034853</td>\n",
       "      <td>-0.568967</td>\n",
       "    </tr>\n",
       "    <tr>\n",
       "      <th>68992</th>\n",
       "      <td>pierrju01</td>\n",
       "      <td>2007</td>\n",
       "      <td>-1.993260</td>\n",
       "      <td>0.344768</td>\n",
       "      <td>-1.844882</td>\n",
       "      <td>-0.778390</td>\n",
       "      <td>1.889531</td>\n",
       "    </tr>\n",
       "    <tr>\n",
       "      <th>74751</th>\n",
       "      <td>rolliji01</td>\n",
       "      <td>2007</td>\n",
       "      <td>0.129995</td>\n",
       "      <td>2.048326</td>\n",
       "      <td>0.883465</td>\n",
       "      <td>-0.127795</td>\n",
       "      <td>-0.077267</td>\n",
       "    </tr>\n",
       "    <tr>\n",
       "      <th>28323</th>\n",
       "      <td>francje02</td>\n",
       "      <td>2007</td>\n",
       "      <td>0.433317</td>\n",
       "      <td>-0.790938</td>\n",
       "      <td>-0.116929</td>\n",
       "      <td>-0.412431</td>\n",
       "      <td>0.168583</td>\n",
       "    </tr>\n",
       "    <tr>\n",
       "      <th>95924</th>\n",
       "      <td>youngde03</td>\n",
       "      <td>2007</td>\n",
       "      <td>0.129995</td>\n",
       "      <td>-0.790938</td>\n",
       "      <td>-0.662598</td>\n",
       "      <td>-1.063026</td>\n",
       "      <td>0.463602</td>\n",
       "    </tr>\n",
       "    <tr>\n",
       "      <th>96466</th>\n",
       "      <td>zimmery01</td>\n",
       "      <td>2007</td>\n",
       "      <td>0.888301</td>\n",
       "      <td>-0.081122</td>\n",
       "      <td>0.337795</td>\n",
       "      <td>0.360151</td>\n",
       "      <td>-1.159006</td>\n",
       "    </tr>\n",
       "    <tr>\n",
       "      <th>80391</th>\n",
       "      <td>sizemgr01</td>\n",
       "      <td>2007</td>\n",
       "      <td>-0.476649</td>\n",
       "      <td>-0.081122</td>\n",
       "      <td>0.337795</td>\n",
       "      <td>1.986638</td>\n",
       "      <td>-0.716476</td>\n",
       "    </tr>\n",
       "    <tr>\n",
       "      <th>40447</th>\n",
       "      <td>howarry01</td>\n",
       "      <td>2008</td>\n",
       "      <td>-0.433200</td>\n",
       "      <td>0.100000</td>\n",
       "      <td>1.096799</td>\n",
       "      <td>1.036419</td>\n",
       "      <td>-0.985138</td>\n",
       "    </tr>\n",
       "    <tr>\n",
       "      <th>84895</th>\n",
       "      <td>suzukic01</td>\n",
       "      <td>2008</td>\n",
       "      <td>-1.044777</td>\n",
       "      <td>1.300000</td>\n",
       "      <td>-1.235634</td>\n",
       "      <td>-1.266735</td>\n",
       "      <td>1.379193</td>\n",
       "    </tr>\n",
       "    <tr>\n",
       "      <th>41558</th>\n",
       "      <td>ibanera01</td>\n",
       "      <td>2008</td>\n",
       "      <td>1.299600</td>\n",
       "      <td>-0.300000</td>\n",
       "      <td>-0.291554</td>\n",
       "      <td>-0.268701</td>\n",
       "      <td>-0.039406</td>\n",
       "    </tr>\n",
       "    <tr>\n",
       "      <th>31739</th>\n",
       "      <td>gonzaad01</td>\n",
       "      <td>2008</td>\n",
       "      <td>0.178377</td>\n",
       "      <td>-1.100000</td>\n",
       "      <td>0.430390</td>\n",
       "      <td>0.499017</td>\n",
       "      <td>-0.354650</td>\n",
       "    </tr>\n",
       "    <tr>\n",
       "      <th>26653</th>\n",
       "      <td>fieldpr01</td>\n",
       "      <td>2009</td>\n",
       "      <td>NaN</td>\n",
       "      <td>NaN</td>\n",
       "      <td>NaN</td>\n",
       "      <td>NaN</td>\n",
       "      <td>NaN</td>\n",
       "    </tr>\n",
       "    <tr>\n",
       "      <th>84897</th>\n",
       "      <td>suzukic01</td>\n",
       "      <td>2010</td>\n",
       "      <td>0.707107</td>\n",
       "      <td>-0.707107</td>\n",
       "      <td>-0.707107</td>\n",
       "      <td>-0.707107</td>\n",
       "      <td>0.707107</td>\n",
       "    </tr>\n",
       "    <tr>\n",
       "      <th>45422</th>\n",
       "      <td>kempma01</td>\n",
       "      <td>2010</td>\n",
       "      <td>-0.707107</td>\n",
       "      <td>0.707107</td>\n",
       "      <td>0.707107</td>\n",
       "      <td>0.707107</td>\n",
       "      <td>-0.707107</td>\n",
       "    </tr>\n",
       "    <tr>\n",
       "      <th>26655</th>\n",
       "      <td>fieldpr01</td>\n",
       "      <td>2011</td>\n",
       "      <td>NaN</td>\n",
       "      <td>NaN</td>\n",
       "      <td>NaN</td>\n",
       "      <td>NaN</td>\n",
       "      <td>NaN</td>\n",
       "    </tr>\n",
       "    <tr>\n",
       "      <th>26656</th>\n",
       "      <td>fieldpr01</td>\n",
       "      <td>2012</td>\n",
       "      <td>-0.132453</td>\n",
       "      <td>-0.739544</td>\n",
       "      <td>0.473016</td>\n",
       "      <td>1.154008</td>\n",
       "      <td>-0.164957</td>\n",
       "    </tr>\n",
       "    <tr>\n",
       "      <th>43640</th>\n",
       "      <td>jonesad01</td>\n",
       "      <td>2012</td>\n",
       "      <td>1.059626</td>\n",
       "      <td>-0.398216</td>\n",
       "      <td>0.675737</td>\n",
       "      <td>-0.611624</td>\n",
       "      <td>-0.907265</td>\n",
       "    </tr>\n",
       "    <tr>\n",
       "      <th>14211</th>\n",
       "      <td>castrst01</td>\n",
       "      <td>2012</td>\n",
       "      <td>-0.927173</td>\n",
       "      <td>1.137760</td>\n",
       "      <td>-1.148754</td>\n",
       "      <td>-0.542384</td>\n",
       "      <td>1.072222</td>\n",
       "    </tr>\n",
       "    <tr>\n",
       "      <th>97506</th>\n",
       "      <td>pencehu01</td>\n",
       "      <td>2013</td>\n",
       "      <td>0.707107</td>\n",
       "      <td>1.224745</td>\n",
       "      <td>0.799613</td>\n",
       "      <td>-0.943634</td>\n",
       "      <td>-0.948122</td>\n",
       "    </tr>\n",
       "    <tr>\n",
       "      <th>96755</th>\n",
       "      <td>butlebi03</td>\n",
       "      <td>2013</td>\n",
       "      <td>-1.178511</td>\n",
       "      <td>-0.816497</td>\n",
       "      <td>-1.458117</td>\n",
       "      <td>-0.177375</td>\n",
       "      <td>1.239852</td>\n",
       "    </tr>\n",
       "    <tr>\n",
       "      <th>96968</th>\n",
       "      <td>fieldpr01</td>\n",
       "      <td>2013</td>\n",
       "      <td>0.942809</td>\n",
       "      <td>-0.816497</td>\n",
       "      <td>0.423324</td>\n",
       "      <td>-0.290895</td>\n",
       "      <td>-0.656392</td>\n",
       "    </tr>\n",
       "    <tr>\n",
       "      <th>97826</th>\n",
       "      <td>vottojo01</td>\n",
       "      <td>2013</td>\n",
       "      <td>-0.471405</td>\n",
       "      <td>0.408248</td>\n",
       "      <td>0.235180</td>\n",
       "      <td>1.411904</td>\n",
       "      <td>0.364662</td>\n",
       "    </tr>\n",
       "  </tbody>\n",
       "</table>\n",
       "<p>208 rows × 7 columns</p>\n",
       "</div>"
      ],
      "text/plain": [
       "        playerID  yearID        2B        3B        HR        BB         S\n",
       "72882  richabo01    1961       NaN -0.707107 -0.707107 -0.707107  0.707107\n",
       "94941   woodja01    1961       NaN  0.707107  0.707107  0.707107 -0.707107\n",
       "14401  cepedor01    1962 -0.467449 -1.214868  0.310038 -1.159496  0.780237\n",
       "79873  siebeno01    1962 -0.557923  0.520658 -0.535519  1.570931  0.780237\n",
       "73959  robinbr01    1962 -0.196027  1.561973 -0.704631 -0.972481  0.906761\n",
       "76945  santoro01    1962 -1.010293 -0.173553 -1.211965 -0.112209 -1.307423\n",
       "74049  robinfr02    1962  1.794400 -0.867763  0.648260  0.299225 -0.042175\n",
       "55480   mayswi01    1962  0.437291  0.173553  1.493817  0.374031 -1.117636\n",
       "76946  santoro01    1963 -0.293105 -0.800641  0.132453 -0.307339 -0.872872\n",
       "92500  whitebi03    1963 -0.820695 -0.320256  0.927173  1.117598  1.091089\n",
       "69165  pinsova01    1963  1.113800  1.120897 -1.059626 -0.810258 -0.218218\n",
       "40617  howsedi01    1964 -0.678929 -0.807352 -1.400100  1.007909  0.333816\n",
       "12534  callijo01    1964  0.248389  0.742764  0.923029 -1.128057 -0.619944\n",
       "55599  mcauldi01    1964 -1.341299 -0.032294  0.342247  1.061308 -1.497403\n",
       "996    allendi01    1964  1.308181  1.517822  0.757091  0.527317 -0.123989\n",
       "93376  willibi01    1964  1.440655 -1.324058  1.088967  0.100123  0.104914\n",
       "55502  mazerbi01    1964 -0.811403  0.226059 -0.819318 -1.501851 -0.123989\n",
       "27402  floodcu01    1964 -0.413981 -1.065705 -1.234162 -0.754263  2.050584\n",
       "8779   boyerke01    1964  0.248389  0.742764  0.342247  0.687514 -0.123989\n",
       "35520  hansero02    1965 -0.762484 -0.468487 -0.595643 -0.515516 -1.237091\n",
       "75123   rosepe01    1965  1.317017  0.792825 -0.595643  0.023977  1.535700\n",
       "15952  clenddo01    1965  0.797142  1.333387 -0.125399 -1.234840  0.042658\n",
       "92152   wertdo01    1965 -0.935775 -0.828862 -0.438895  0.263752 -0.010665\n",
       "16343  colavro01    1965 -0.415900 -0.828862  1.755581  1.462626 -0.330602\n",
       "78233  scottge02    1966 -1.203059  0.613572  0.209571 -0.078446 -0.827981\n",
       "55504  mazerbi01    1966 -0.451147  0.613572 -0.838285 -1.412036  0.903252\n",
       "28677  fregoji01    1966  1.428632  0.613572 -1.124064  0.000000 -0.301084\n",
       "45975  killeha01    1966  0.488743 -1.687323  1.352688  1.412036 -0.978523\n",
       "93378  willibi01    1966 -0.263169 -0.153393  0.400091  0.078446  1.204336\n",
       "93379  willibi01    1967       NaN       NaN       NaN       NaN       NaN\n",
       "...          ...     ...       ...       ...       ...       ...       ...\n",
       "49518    leeca01    2005  0.491026 -1.010779  0.413990 -0.495809 -1.339907\n",
       "68990  pierrju01    2005 -1.627124  1.845770 -1.844139 -1.130444  1.408620\n",
       "96064  youngmi02    2006  0.996802 -0.498058 -0.695187 -0.180685  0.743211\n",
       "28322  francje02    2006 -1.430194  0.062257  0.636022 -1.148641 -0.612406\n",
       "85927  tejadmi01    2006 -0.303374 -1.058374  0.192286 -0.258121  0.921581\n",
       "80390  sizemgr01    2006  1.083480  0.996116  0.547275  0.980862 -1.040495\n",
       "85909  teixema01    2006  0.390053 -0.871602  0.991011  1.406762 -1.040495\n",
       "68991  pierrju01    2006 -0.736767  1.369660 -1.671407 -0.800177  1.028604\n",
       "49521    leeca01    2007  0.888301 -0.648975  1.065354  0.034853 -0.568967\n",
       "68992  pierrju01    2007 -1.993260  0.344768 -1.844882 -0.778390  1.889531\n",
       "74751  rolliji01    2007  0.129995  2.048326  0.883465 -0.127795 -0.077267\n",
       "28323  francje02    2007  0.433317 -0.790938 -0.116929 -0.412431  0.168583\n",
       "95924  youngde03    2007  0.129995 -0.790938 -0.662598 -1.063026  0.463602\n",
       "96466  zimmery01    2007  0.888301 -0.081122  0.337795  0.360151 -1.159006\n",
       "80391  sizemgr01    2007 -0.476649 -0.081122  0.337795  1.986638 -0.716476\n",
       "40447  howarry01    2008 -0.433200  0.100000  1.096799  1.036419 -0.985138\n",
       "84895  suzukic01    2008 -1.044777  1.300000 -1.235634 -1.266735  1.379193\n",
       "41558  ibanera01    2008  1.299600 -0.300000 -0.291554 -0.268701 -0.039406\n",
       "31739  gonzaad01    2008  0.178377 -1.100000  0.430390  0.499017 -0.354650\n",
       "26653  fieldpr01    2009       NaN       NaN       NaN       NaN       NaN\n",
       "84897  suzukic01    2010  0.707107 -0.707107 -0.707107 -0.707107  0.707107\n",
       "45422   kempma01    2010 -0.707107  0.707107  0.707107  0.707107 -0.707107\n",
       "26655  fieldpr01    2011       NaN       NaN       NaN       NaN       NaN\n",
       "26656  fieldpr01    2012 -0.132453 -0.739544  0.473016  1.154008 -0.164957\n",
       "43640  jonesad01    2012  1.059626 -0.398216  0.675737 -0.611624 -0.907265\n",
       "14211  castrst01    2012 -0.927173  1.137760 -1.148754 -0.542384  1.072222\n",
       "97506  pencehu01    2013  0.707107  1.224745  0.799613 -0.943634 -0.948122\n",
       "96755  butlebi03    2013 -1.178511 -0.816497 -1.458117 -0.177375  1.239852\n",
       "96968  fieldpr01    2013  0.942809 -0.816497  0.423324 -0.290895 -0.656392\n",
       "97826  vottojo01    2013 -0.471405  0.408248  0.235180  1.411904  0.364662\n",
       "\n",
       "[208 rows x 7 columns]"
      ]
     },
     "execution_count": 59,
     "metadata": {},
     "output_type": "execute_result"
    }
   ],
   "source": [
    "playerstats_adj"
   ]
  },
  {
   "cell_type": "markdown",
   "metadata": {},
   "source": [
    "Show the head of the `playerstats` DataFrame. "
   ]
  },
  {
   "cell_type": "code",
   "execution_count": 9,
   "metadata": {
    "collapsed": false
   },
   "outputs": [],
   "source": [
    "### Your code here ###"
   ]
  },
  {
   "cell_type": "markdown",
   "metadata": {},
   "source": [
    "#### Problem 1(h)\n",
    "\n",
    "Using the `playerstats` DataFrame created in Problem 1(g), create a new DataFrame called `playerLS` containing the player's lifetime stats. This DataFrame should contain the playerID, the year the player's career started, the year the player's career ended and the player's lifetime average for each of the quantities (singles, doubles, triples, HR, BB). For simplicity we will simply compute the avaerage of the rates by year (a more correct way is to go back to the totals). "
   ]
  },
  {
   "cell_type": "code",
   "execution_count": 10,
   "metadata": {
    "collapsed": false
   },
   "outputs": [],
   "source": [
    "### Your code here ###"
   ]
  },
  {
   "cell_type": "markdown",
   "metadata": {},
   "source": [
    "Show the head of the `playerLS` DataFrame. "
   ]
  },
  {
   "cell_type": "code",
   "execution_count": 11,
   "metadata": {
    "collapsed": false
   },
   "outputs": [],
   "source": [
    "### Your code here ###"
   ]
  },
  {
   "cell_type": "markdown",
   "metadata": {},
   "source": [
    "#### Problem 1(i)\n",
    "\n",
    "Compute the OPW for each player based on the average rates in the `playerLS` DataFrame. You can interpret this summary statistic as the predicted wins for a team with 9 batters exactly like the player in question. Add this column to the playerLS DataFrame. Call this colum OPW."
   ]
  },
  {
   "cell_type": "code",
   "execution_count": 12,
   "metadata": {
    "collapsed": false
   },
   "outputs": [],
   "source": [
    "### Your code here ###"
   ]
  },
  {
   "cell_type": "markdown",
   "metadata": {},
   "source": [
    "#### Problem 1(j)\n",
    "\n",
    "Add four columns to the `playerLS` DataFrame that contains the player's position (C, 1B, 2B, 3B, SS, LF, CF, RF, or OF), first name, last name and median salary. "
   ]
  },
  {
   "cell_type": "code",
   "execution_count": 13,
   "metadata": {
    "collapsed": false
   },
   "outputs": [],
   "source": [
    "### Your code here ###"
   ]
  },
  {
   "cell_type": "markdown",
   "metadata": {},
   "source": [
    "Show the head of the `playerLS` DataFrame. "
   ]
  },
  {
   "cell_type": "code",
   "execution_count": 14,
   "metadata": {
    "collapsed": false
   },
   "outputs": [],
   "source": [
    "### Your code here ###"
   ]
  },
  {
   "cell_type": "markdown",
   "metadata": {},
   "source": [
    "#### Problem 1(k)\n",
    "\n",
    "Subset the `playerLS` DataFrame for players active in 2002 and 2003 and played at least three years. Plot and describe the relationship bewteen the median salary (in millions) and the predicted number of wins. "
   ]
  },
  {
   "cell_type": "code",
   "execution_count": 15,
   "metadata": {
    "collapsed": false
   },
   "outputs": [],
   "source": [
    "### Your code here ###"
   ]
  },
  {
   "cell_type": "markdown",
   "metadata": {},
   "source": [
    "#### Problem 1(l)\n",
    "Pick one players from one of each of these 10 position C, 1B, 2B, 3B, SS, LF, CF, RF, DH, or OF keeping the total median salary of all 10 players below 20 million. Report their averaged predicted wins and total salary."
   ]
  },
  {
   "cell_type": "code",
   "execution_count": 16,
   "metadata": {
    "collapsed": false
   },
   "outputs": [],
   "source": [
    "### Your code here ###"
   ]
  },
  {
   "cell_type": "markdown",
   "metadata": {},
   "source": [
    "#### Problem 1(m)\n",
    "What do these players outperform in? Singles, doubles, triples HR or BB?"
   ]
  },
  {
   "cell_type": "code",
   "execution_count": 17,
   "metadata": {
    "collapsed": false
   },
   "outputs": [],
   "source": [
    "### Your code here ###"
   ]
  },
  {
   "cell_type": "markdown",
   "metadata": {},
   "source": [
    "** Your answer here: **"
   ]
  },
  {
   "cell_type": "markdown",
   "metadata": {},
   "source": [
    "### "
   ]
  },
  {
   "cell_type": "markdown",
   "metadata": {},
   "source": [
    "### Use one of the classification methods to predict wheather a player will be an Allstar?"
   ]
  },
  {
   "cell_type": "code",
   "execution_count": null,
   "metadata": {
    "collapsed": false
   },
   "outputs": [],
   "source": [
    "### Your code here ###"
   ]
  },
  {
   "cell_type": "markdown",
   "metadata": {},
   "source": [
    "## Discussion for Problem 1\n",
    "\n",
    "*Write a brief discussion of your conclusions to the questions and tasks above in 100 words or less.*\n",
    "\n",
    "---"
   ]
  },
  {
   "cell_type": "markdown",
   "metadata": {},
   "source": [
    "# Problem 2:  $k$-Nearest Neighbors and Cross Validation \n",
    "\n",
    "What is the optimal $k$ for predicting species using $k$-nearest neighbor classification \n",
    "on the four features provided by the iris dataset.\n",
    "\n",
    "In this problem you will get to know the famous iris data set, and use cross validation to select the optimal $k$ for a $k$-nearest neighbor classification. This problem set makes heavy use of the [sklearn](http://scikit-learn.org/stable/) library. In addition to Pandas, it is one of the most useful libraries for data scientists. \n",
    "For the Iris data set  sklearn provides an extra function to load it - since it is one of the very commonly used data sets."
   ]
  },
  {
   "cell_type": "code",
   "execution_count": 5,
   "metadata": {
    "collapsed": false
   },
   "outputs": [],
   "source": [
    "#load the iris data set\n"
   ]
  },
  {
   "cell_type": "markdown",
   "metadata": {},
   "source": [
    "#### Problem 2(a) \n",
    "Split the data into a train and a test set. Use a random selection of 33% of the samples as test data. Sklearn provides the [`train_test_split`](http://scikit-learn.org/stable/modules/generated/sklearn.cross_validation.train_test_split.html) function for this purpose. Print the dimensions of all the train and test data sets you have created. "
   ]
  },
  {
   "cell_type": "code",
   "execution_count": 19,
   "metadata": {
    "collapsed": false
   },
   "outputs": [],
   "source": [
    "### Your code here ###"
   ]
  },
  {
   "cell_type": "markdown",
   "metadata": {},
   "source": [
    "#### Problem 2(b) \n",
    "\n",
    " Use ***ten fold cross validation*** to estimate the optimal value for $k$ for the iris data set. \n",
    "\n",
    "**Note**: For your convenience sklearn does not only include the [KNN classifier](http://scikit-learn.org/stable/modules/generated/sklearn.neighbors.KNeighborsClassifier.html), but also a [grid search function](http://scikit-learn.org/stable/modules/generated/sklearn.grid_search.GridSearchCV.html#sklearn.grid_search.GridSearchCV). The function is called grid search, because if you have to optimize more than one parameter, it is common practice to define a range of possible values for each parameter. An exhaustive search then runs over the complete grid defined by all the possible parameter combinations. This can get very computation heavy, but luckily our KNN classifier only requires tuning of a single parameter for this problem set. "
   ]
  },
  {
   "cell_type": "code",
   "execution_count": 21,
   "metadata": {
    "collapsed": false
   },
   "outputs": [],
   "source": [
    "### Your code here ###"
   ]
  },
  {
   "cell_type": "markdown",
   "metadata": {},
   "source": [
    "#### Problem 2(c)\n",
    "\n",
    "Visualize the result by plotting the score results versus values for $k$. "
   ]
  },
  {
   "cell_type": "code",
   "execution_count": 22,
   "metadata": {
    "collapsed": false
   },
   "outputs": [],
   "source": [
    "### Your code here ###"
   ]
  },
  {
   "cell_type": "markdown",
   "metadata": {},
   "source": [
    "Verify that the grid search has indeed chosen the right parameter value for $k$."
   ]
  },
  {
   "cell_type": "code",
   "execution_count": 23,
   "metadata": {
    "collapsed": false
   },
   "outputs": [],
   "source": [
    "### Your code here ###"
   ]
  },
  {
   "cell_type": "markdown",
   "metadata": {},
   "source": [
    "#### Problem 2(d)\n",
    "\n",
    "Test the performance of our tuned KNN classifier on the test set."
   ]
  },
  {
   "cell_type": "code",
   "execution_count": 6,
   "metadata": {
    "collapsed": false
   },
   "outputs": [],
   "source": [
    "### Your code here ###"
   ]
  },
  {
   "cell_type": "markdown",
   "metadata": {},
   "source": [
    "## Discussion for Problem 2\n",
    "\n",
    "*Write a brief discussion of your conclusions to the questions and tasks above in 100 words or less.*\n",
    "\n",
    "---"
   ]
  },
  {
   "cell_type": "markdown",
   "metadata": {},
   "source": [
    "## Problem 3: Supervised Learning - Estimating Boston house pricing using Linear Regression and Regression Trees"
   ]
  },
  {
   "cell_type": "markdown",
   "metadata": {},
   "source": [
    "##### Import the Boston House Pricing Dataset; it comes with the scikit or you can dowload it FROM UCI ML cars dataset. (https://archive.ics.uci.edu/ml/datasets/Automobile)"
   ]
  },
  {
   "cell_type": "code",
   "execution_count": null,
   "metadata": {
    "collapsed": false
   },
   "outputs": [],
   "source": [
    "### Your code here ###"
   ]
  },
  {
   "cell_type": "markdown",
   "metadata": {},
   "source": [
    "#### Find the mostimportant features"
   ]
  },
  {
   "cell_type": "code",
   "execution_count": null,
   "metadata": {
    "collapsed": false
   },
   "outputs": [],
   "source": [
    "### Your code here ###"
   ]
  },
  {
   "cell_type": "markdown",
   "metadata": {},
   "source": [
    "#### Using 10-fold cross validation separate the test and training data sets"
   ]
  },
  {
   "cell_type": "code",
   "execution_count": null,
   "metadata": {
    "collapsed": false
   },
   "outputs": [],
   "source": [
    "### Your code here ###"
   ]
  },
  {
   "cell_type": "code",
   "execution_count": null,
   "metadata": {
    "collapsed": false
   },
   "outputs": [],
   "source": [
    "Normalize the data"
   ]
  },
  {
   "cell_type": "code",
   "execution_count": null,
   "metadata": {
    "collapsed": false
   },
   "outputs": [],
   "source": [
    "### Your code here ###"
   ]
  },
  {
   "cell_type": "markdown",
   "metadata": {},
   "source": [
    "### Start with a lineal model and evaluate how well it can predict the price variable"
   ]
  },
  {
   "cell_type": "code",
   "execution_count": null,
   "metadata": {
    "collapsed": false
   },
   "outputs": [],
   "source": [
    "### Your code here ###"
   ]
  },
  {
   "cell_type": "markdown",
   "metadata": {},
   "source": [
    "### Try using Ridge regression and evaluate the result of the 10-fold cross-validation"
   ]
  },
  {
   "cell_type": "code",
   "execution_count": null,
   "metadata": {
    "collapsed": false
   },
   "outputs": [],
   "source": [
    "### Your code here ###"
   ]
  },
  {
   "cell_type": "markdown",
   "metadata": {},
   "source": [
    "### Train the Regression Tree and evaluate using 10-fold cross validation; Specify the parapmeters used and how you changed them to increase the accuracy;  "
   ]
  },
  {
   "cell_type": "code",
   "execution_count": null,
   "metadata": {
    "collapsed": false
   },
   "outputs": [],
   "source": [
    "### Your code here ###"
   ]
  },
  {
   "cell_type": "markdown",
   "metadata": {},
   "source": [
    "### Discussion for Problem 3  Write a brief discussion of your conclusions to the questions and tasks above in 100 words or less.Compare all three aproaches and discuss your findings in 100 words or less"
   ]
  }
 ],
 "metadata": {
  "kernelspec": {
   "display_name": "Python 2",
   "language": "python",
   "name": "python2"
  },
  "language_info": {
   "codemirror_mode": {
    "name": "ipython",
    "version": 2
   },
   "file_extension": ".py",
   "mimetype": "text/x-python",
   "name": "python",
   "nbconvert_exporter": "python",
   "pygments_lexer": "ipython2",
   "version": "2.7.11"
  }
 },
 "nbformat": 4,
 "nbformat_minor": 0
}
