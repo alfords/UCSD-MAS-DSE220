{
 "cells": [
  {
   "cell_type": "markdown",
   "metadata": {
    "collapsed": false
   },
   "source": [
    "# Titanic Dataset"
   ]
  },
  {
   "cell_type": "code",
   "execution_count": 3,
   "metadata": {
    "collapsed": true
   },
   "outputs": [],
   "source": [
    "import pandas as pd\n",
    "import numpy as np\n",
    "import matplotlib.pyplot as plt\n",
    "%matplotlib inline"
   ]
  },
  {
   "cell_type": "code",
   "execution_count": 4,
   "metadata": {
    "collapsed": true
   },
   "outputs": [],
   "source": [
    "from sklearn import cross_validation\n",
    "from sklearn.ensemble import RandomForestClassifier\n",
    "from sklearn.tree import DecisionTreeClassifier"
   ]
  },
  {
   "cell_type": "markdown",
   "metadata": {},
   "source": [
    "## Preprocessing"
   ]
  },
  {
   "cell_type": "markdown",
   "metadata": {},
   "source": [
    "### Cleaning"
   ]
  },
  {
   "cell_type": "code",
   "execution_count": 5,
   "metadata": {
    "collapsed": false
   },
   "outputs": [],
   "source": [
    "titanic = pd.read_csv(\"data/train.csv\")"
   ]
  },
  {
   "cell_type": "code",
   "execution_count": 6,
   "metadata": {
    "collapsed": false
   },
   "outputs": [
    {
     "name": "stdout",
     "output_type": "stream",
     "text": [
      "['S' 'C' 'Q' nan]\n"
     ]
    }
   ],
   "source": [
    "# The titanic variable is available here.\n",
    "titanic.Age = titanic.Age.fillna(titanic.Age.median())\n",
    "# Replace all the occurences of male with the number 0.\n",
    "titanic.loc[titanic[\"Sex\"] == \"male\", \"Sex\"] = 0\n",
    "titanic.loc[titanic[\"Sex\"] == \"female\", \"Sex\"] = 1\n",
    "\n",
    "# Find all the unique values for \"Embarked\".\n",
    "print(titanic[\"Embarked\"].unique())\n",
    "titanic[\"Embarked\"] = titanic[\"Embarked\"].fillna(\"S\")\n",
    "\n",
    "titanic.loc[titanic[\"Embarked\"] == \"S\", \"Embarked\"] = 0\n",
    "titanic.loc[titanic[\"Embarked\"] == \"C\", \"Embarked\"] = 1\n",
    "titanic.loc[titanic[\"Embarked\"] == \"Q\", \"Embarked\"] = 2"
   ]
  },
  {
   "cell_type": "markdown",
   "metadata": {},
   "source": [
    "\n",
    "### Feature Engineering\n",
    "\n",
    "We can also generate new features. Here are some ideas:\n",
    "\n",
    "The length of the name -- this could pertain to how rich the person was, and therefore their position in the Titanic.\n",
    "The total number of people in a family (SibSp + Parch).\n",
    "An easy way to generate features is to use the .apply method on pandas dataframes. This applies a function you pass in to each element in a dataframe or series. We can pass in a lambda function, which enables us to define a function inline.\n",
    "\n",
    "To write a lambda function, you write lambda x: len(x). x will take on the value of the input that is passed in -- in this case, the passenger name. The function to the right of the colon is then applied to x, and the result returned. The .apply method takes all of these outputs and constructs a pandas series from them. We can assign this series to a dataframe column.\n",
    "\n",
    "\n"
   ]
  },
  {
   "cell_type": "code",
   "execution_count": 7,
   "metadata": {
    "collapsed": true
   },
   "outputs": [],
   "source": [
    "# Generating a familysize column\n",
    "titanic[\"FamilySize\"] = titanic[\"SibSp\"] + titanic[\"Parch\"]\n",
    "\n",
    "# The .apply method generates a new series\n",
    "titanic[\"NameLength\"] = titanic[\"Name\"].apply(lambda x: len(x))"
   ]
  },
  {
   "cell_type": "markdown",
   "metadata": {},
   "source": [
    "#### Using The Title\n",
    "\n",
    "We can extract the title of the passenger from their name. The titles take the form of Master., Mr., Mrs.. There are a few very commonly used titles, and a \"long tail\" of one-off titles that only one or two passengers have.\n",
    "\n",
    "We'll first extract the titles with a regular expression, and then map each unique title to an integer value.\n",
    "\n",
    "We'll then have a numeric column that corresponds to the appropriate Title."
   ]
  },
  {
   "cell_type": "code",
   "execution_count": 8,
   "metadata": {
    "collapsed": false
   },
   "outputs": [
    {
     "name": "stdout",
     "output_type": "stream",
     "text": [
      "Mr          517\n",
      "Miss        182\n",
      "Mrs         125\n",
      "Master       40\n",
      "Dr            7\n",
      "Rev           6\n",
      "Col           2\n",
      "Major         2\n",
      "Mlle          2\n",
      "Countess      1\n",
      "Ms            1\n",
      "Lady          1\n",
      "Jonkheer      1\n",
      "Don           1\n",
      "Mme           1\n",
      "Capt          1\n",
      "Sir           1\n",
      "Name: Name, dtype: int64\n",
      "1     517\n",
      "2     183\n",
      "3     125\n",
      "4      40\n",
      "5       7\n",
      "6       6\n",
      "7       5\n",
      "10      3\n",
      "8       3\n",
      "9       2\n",
      "Name: Name, dtype: int64\n"
     ]
    }
   ],
   "source": [
    "import re\n",
    "\n",
    "# A function to get the title from a name.\n",
    "def get_title(name):\n",
    "    # Use a regular expression to search for a title.  Titles always consist of capital and lowercase letters, and end with a period.\n",
    "    title_search = re.search(' ([A-Za-z]+)\\.', name)\n",
    "    # If the title exists, extract and return it.\n",
    "    if title_search:\n",
    "        return title_search.group(1)\n",
    "    return \"\"\n",
    "\n",
    "# Get all the titles and print how often each one occurs.\n",
    "titles = titanic[\"Name\"].apply(get_title)\n",
    "print(pd.value_counts(titles))\n",
    "\n",
    "# Map each title to an integer.  Some titles are very rare, and are compressed into the same codes as other titles.\n",
    "title_mapping = {\"Mr\": 1, \"Miss\": 2, \"Mrs\": 3, \"Master\": 4, \"Dr\": 5, \"Rev\": 6, \"Major\": 7, \"Col\": 7, \"Mlle\": 8, \"Mme\": 8, \"Don\": 9, \"Lady\": 10, \"Countess\": 10, \"Jonkheer\": 10, \"Sir\": 9, \"Capt\": 7, \"Ms\": 2}\n",
    "for k,v in title_mapping.items():\n",
    "    titles[titles == k] = v\n",
    "\n",
    "# Verify that we converted everything.\n",
    "print(pd.value_counts(titles))\n",
    "\n",
    "# Add in the title column.\n",
    "titanic[\"Title\"] = titles"
   ]
  },
  {
   "cell_type": "markdown",
   "metadata": {},
   "source": [
    "#### Family Groups\n",
    "\n",
    "We can also generate a feature indicating which family people are in. Because survival was likely highly dependent on your family and the people around you, this has a good chance at being a good feature.\n",
    "\n",
    "To get this, we'll concatenate someone's last name with FamilySize to get a unique family id. We'll then be able to assign a code to each person based on their family id."
   ]
  },
  {
   "cell_type": "code",
   "execution_count": 9,
   "metadata": {
    "collapsed": false
   },
   "outputs": [
    {
     "name": "stdout",
     "output_type": "stream",
     "text": [
      "-1      800\n",
      " 14       8\n",
      " 149      7\n",
      " 63       6\n",
      " 50       6\n",
      " 59       6\n",
      " 17       5\n",
      " 384      4\n",
      " 27       4\n",
      " 25       4\n",
      " 162      4\n",
      " 8        4\n",
      " 84       4\n",
      " 340      4\n",
      " 43       3\n",
      " 269      3\n",
      " 58       3\n",
      " 633      2\n",
      " 167      2\n",
      " 280      2\n",
      " 510      2\n",
      " 90       2\n",
      " 83       1\n",
      " 625      1\n",
      " 376      1\n",
      " 449      1\n",
      " 498      1\n",
      " 588      1\n",
      "dtype: int64\n"
     ]
    }
   ],
   "source": [
    "import operator\n",
    "\n",
    "# A dictionary mapping family name to id\n",
    "family_id_mapping = {}\n",
    "\n",
    "# A function to get the id given a row\n",
    "def get_family_id(row):\n",
    "    # Find the last name by splitting on a comma\n",
    "    last_name = row[\"Name\"].split(\",\")[0]\n",
    "    # Create the family id\n",
    "    family_id = \"{0}{1}\".format(last_name, row[\"FamilySize\"])\n",
    "    # Look up the id in the mapping\n",
    "    if family_id not in family_id_mapping:\n",
    "        if len(family_id_mapping) == 0:\n",
    "            current_id = 1\n",
    "        else:\n",
    "            # Get the maximum id from the mapping and add one to it if we don't have an id\n",
    "            current_id = (max(family_id_mapping.items(), key=operator.itemgetter(1))[1] + 1)\n",
    "        family_id_mapping[family_id] = current_id\n",
    "    return family_id_mapping[family_id]\n",
    "\n",
    "# Get the family ids with the apply method\n",
    "family_ids = titanic.apply(get_family_id, axis=1)\n",
    "\n",
    "# There are a lot of family ids, so we'll compress all of the families under 3 members into one code.\n",
    "family_ids[titanic[\"FamilySize\"] < 3] = -1\n",
    "\n",
    "# Print the count of each unique id.\n",
    "print(pd.value_counts(family_ids))\n",
    "\n",
    "titanic[\"FamilyId\"] = family_ids"
   ]
  },
  {
   "cell_type": "markdown",
   "metadata": {},
   "source": [
    "### Feature Selection\n",
    "\n",
    "Feature engineering is the most important part of any machine learning task, and there are lots more features we could calculate. But we also need a way to figure out which features are the best.\n",
    "\n",
    "One way to do this is to use univariate feature selection. This essentially goes column by column, and figures out which columns correlate most closely with what we're trying to predict (Survived).\n",
    "\n",
    "As usual, sklearn has a function that will help us with feature selection, SelectKBest. This selects the best features from the data, and allows us to specify how many it selects."
   ]
  },
  {
   "cell_type": "code",
   "execution_count": 10,
   "metadata": {
    "collapsed": false
   },
   "outputs": [
    {
     "data": {
      "image/png": "[encoded data removed]",
      "text/plain": [
       "<matplotlib.figure.Figure at 0x118f75110>"
      ]
     },
     "metadata": {},
     "output_type": "display_data"
    }
   ],
   "source": [
    "import numpy as np\n",
    "from sklearn.feature_selection import SelectKBest, f_classif\n",
    "\n",
    "predictors = [\"Pclass\", \"Sex\", \"Age\", \"SibSp\", \"Parch\", \"Fare\", \"Embarked\", \"FamilySize\", \"Title\", \"FamilyId\"]\n",
    "\n",
    "# Perform feature selection\n",
    "selector = SelectKBest(f_classif, k=5)\n",
    "selector.fit(titanic[predictors], titanic[\"Survived\"])\n",
    "\n",
    "# Get the raw p-values for each feature, and transform from p-values into scores\n",
    "scores = -np.log10(selector.pvalues_)\n",
    "\n",
    "# Plot the scores.  See how \"Pclass\", \"Sex\", \"Title\", and \"Fare\" are the best?\n",
    "plt.bar(range(len(predictors)), scores)\n",
    "plt.xticks(range(len(predictors)), predictors, rotation='vertical')\n",
    "plt.show()\n",
    "\n",
    "# Pick only the four best features.\n",
    "predictors = [\"Pclass\", \"Sex\", \"Fare\", \"Title\"]\n"
   ]
  },
  {
   "cell_type": "markdown",
   "metadata": {},
   "source": [
    "The final preprocessed dataframe. Now it is ready for training and evaluation:"
   ]
  },
  {
   "cell_type": "code",
   "execution_count": 11,
   "metadata": {
    "collapsed": false
   },
   "outputs": [
    {
     "data": {
      "text/html": [
       "<div>\n",
       "<table border=\"1\" class=\"dataframe\">\n",
       "  <thead>\n",
       "    <tr style=\"text-align: right;\">\n",
       "      <th></th>\n",
       "      <th>PassengerId</th>\n",
       "      <th>Survived</th>\n",
       "      <th>Pclass</th>\n",
       "      <th>Name</th>\n",
       "      <th>Sex</th>\n",
       "      <th>Age</th>\n",
       "      <th>SibSp</th>\n",
       "      <th>Parch</th>\n",
       "      <th>Ticket</th>\n",
       "      <th>Fare</th>\n",
       "      <th>Cabin</th>\n",
       "      <th>Embarked</th>\n",
       "      <th>FamilySize</th>\n",
       "      <th>NameLength</th>\n",
       "      <th>Title</th>\n",
       "      <th>FamilyId</th>\n",
       "    </tr>\n",
       "  </thead>\n",
       "  <tbody>\n",
       "    <tr>\n",
       "      <th>0</th>\n",
       "      <td>1</td>\n",
       "      <td>0</td>\n",
       "      <td>3</td>\n",
       "      <td>Braund, Mr. Owen Harris</td>\n",
       "      <td>0</td>\n",
       "      <td>22</td>\n",
       "      <td>1</td>\n",
       "      <td>0</td>\n",
       "      <td>A/5 21171</td>\n",
       "      <td>7.2500</td>\n",
       "      <td>NaN</td>\n",
       "      <td>0</td>\n",
       "      <td>1</td>\n",
       "      <td>23</td>\n",
       "      <td>1</td>\n",
       "      <td>-1</td>\n",
       "    </tr>\n",
       "    <tr>\n",
       "      <th>1</th>\n",
       "      <td>2</td>\n",
       "      <td>1</td>\n",
       "      <td>1</td>\n",
       "      <td>Cumings, Mrs. John Bradley (Florence Briggs Th...</td>\n",
       "      <td>1</td>\n",
       "      <td>38</td>\n",
       "      <td>1</td>\n",
       "      <td>0</td>\n",
       "      <td>PC 17599</td>\n",
       "      <td>71.2833</td>\n",
       "      <td>C85</td>\n",
       "      <td>1</td>\n",
       "      <td>1</td>\n",
       "      <td>51</td>\n",
       "      <td>3</td>\n",
       "      <td>-1</td>\n",
       "    </tr>\n",
       "    <tr>\n",
       "      <th>2</th>\n",
       "      <td>3</td>\n",
       "      <td>1</td>\n",
       "      <td>3</td>\n",
       "      <td>Heikkinen, Miss. Laina</td>\n",
       "      <td>1</td>\n",
       "      <td>26</td>\n",
       "      <td>0</td>\n",
       "      <td>0</td>\n",
       "      <td>STON/O2. 3101282</td>\n",
       "      <td>7.9250</td>\n",
       "      <td>NaN</td>\n",
       "      <td>0</td>\n",
       "      <td>0</td>\n",
       "      <td>22</td>\n",
       "      <td>2</td>\n",
       "      <td>-1</td>\n",
       "    </tr>\n",
       "    <tr>\n",
       "      <th>3</th>\n",
       "      <td>4</td>\n",
       "      <td>1</td>\n",
       "      <td>1</td>\n",
       "      <td>Futrelle, Mrs. Jacques Heath (Lily May Peel)</td>\n",
       "      <td>1</td>\n",
       "      <td>35</td>\n",
       "      <td>1</td>\n",
       "      <td>0</td>\n",
       "      <td>113803</td>\n",
       "      <td>53.1000</td>\n",
       "      <td>C123</td>\n",
       "      <td>0</td>\n",
       "      <td>1</td>\n",
       "      <td>44</td>\n",
       "      <td>3</td>\n",
       "      <td>-1</td>\n",
       "    </tr>\n",
       "    <tr>\n",
       "      <th>4</th>\n",
       "      <td>5</td>\n",
       "      <td>0</td>\n",
       "      <td>3</td>\n",
       "      <td>Allen, Mr. William Henry</td>\n",
       "      <td>0</td>\n",
       "      <td>35</td>\n",
       "      <td>0</td>\n",
       "      <td>0</td>\n",
       "      <td>373450</td>\n",
       "      <td>8.0500</td>\n",
       "      <td>NaN</td>\n",
       "      <td>0</td>\n",
       "      <td>0</td>\n",
       "      <td>24</td>\n",
       "      <td>1</td>\n",
       "      <td>-1</td>\n",
       "    </tr>\n",
       "  </tbody>\n",
       "</table>\n",
       "</div>"
      ],
      "text/plain": [
       "   PassengerId  Survived  Pclass  \\\n",
       "0            1         0       3   \n",
       "1            2         1       1   \n",
       "2            3         1       3   \n",
       "3            4         1       1   \n",
       "4            5         0       3   \n",
       "\n",
       "                                                Name Sex  Age  SibSp  Parch  \\\n",
       "0                            Braund, Mr. Owen Harris   0   22      1      0   \n",
       "1  Cumings, Mrs. John Bradley (Florence Briggs Th...   1   38      1      0   \n",
       "2                             Heikkinen, Miss. Laina   1   26      0      0   \n",
       "3       Futrelle, Mrs. Jacques Heath (Lily May Peel)   1   35      1      0   \n",
       "4                           Allen, Mr. William Henry   0   35      0      0   \n",
       "\n",
       "             Ticket     Fare Cabin Embarked  FamilySize  NameLength Title  \\\n",
       "0         A/5 21171   7.2500   NaN        0           1          23     1   \n",
       "1          PC 17599  71.2833   C85        1           1          51     3   \n",
       "2  STON/O2. 3101282   7.9250   NaN        0           0          22     2   \n",
       "3            113803  53.1000  C123        0           1          44     3   \n",
       "4            373450   8.0500   NaN        0           0          24     1   \n",
       "\n",
       "   FamilyId  \n",
       "0        -1  \n",
       "1        -1  \n",
       "2        -1  \n",
       "3        -1  \n",
       "4        -1  "
      ]
     },
     "execution_count": 11,
     "metadata": {},
     "output_type": "execute_result"
    }
   ],
   "source": [
    "titanic.head()"
   ]
  },
  {
   "cell_type": "code",
   "execution_count": 12,
   "metadata": {
    "collapsed": false
   },
   "outputs": [],
   "source": [
    "#My routine that encapsulates all the preprocessing work documented above\n",
    "def preprocess(data):\n",
    "    data[\"Age\"] = data[\"Age\"].fillna(data[\"Age\"].median())\n",
    "    data[\"Fare\"] = data[\"Fare\"].fillna(data[\"Fare\"].median())\n",
    "    data.loc[data[\"Sex\"] == \"male\", \"Sex\"] = 0 \n",
    "    data.loc[data[\"Sex\"] == \"female\", \"Sex\"] = 1\n",
    "    data[\"Embarked\"] = data[\"Embarked\"].fillna(\"S\")\n",
    "\n",
    "    data.loc[data[\"Embarked\"] == \"S\", \"Embarked\"] = 0\n",
    "    data.loc[data[\"Embarked\"] == \"C\", \"Embarked\"] = 1\n",
    "    data.loc[data[\"Embarked\"] == \"Q\", \"Embarked\"] = 2\n",
    "\n",
    "    # Generating a familysize column\n",
    "    data[\"FamilySize\"] = data[\"SibSp\"] + data[\"Parch\"]\n",
    "\n",
    "    # The .apply method generates a new series\n",
    "    data[\"NameLength\"] = data[\"Name\"].apply(lambda x: len(x))\n",
    "\n",
    "\n",
    "    import re\n",
    "    # Get all the titles and print how often each one occurs.\n",
    "    titles = data[\"Name\"].apply(get_title)\n",
    "    #     print(pd.value_counts(titles))\n",
    "\n",
    "    # Map each title to an integer.  Some titles are very rare, and are compressed into the same codes as other titles.\n",
    "    title_mapping = {\"Mr\": 1, \"Miss\": 2, \"Mrs\": 3, \"Master\": 4, \"Dr\": 5, \"Rev\": 6, \"Major\": 7, \"Col\": 7, \"Mlle\": 8, \"Mme\": 8, \"Don\": 9, \"Lady\": 10, \"Countess\": 10, \"Jonkheer\": 10, \"Sir\": 9, \"Capt\": 7, \"Ms\": 2, \"Dona\": 10}\n",
    "    for k,v in title_mapping.items():\n",
    "        titles[titles == k] = v\n",
    "\n",
    "    # Verify that we converted everything.\n",
    "    #     print(pd.value_counts(titles))\n",
    "\n",
    "    # Add in the title column.\n",
    "    data[\"Title\"] = titles\n",
    "\n",
    "    import operator\n",
    "\n",
    "    # A dictionary mapping family name to id\n",
    "    family_id_mapping = {}\n",
    "\n",
    "    # Get the family ids with the apply method\n",
    "    family_ids = data.apply(get_family_id, axis=1)\n",
    "\n",
    "    # There are a lot of family ids, so we'll compress all of the families under 3 members into one code.\n",
    "    family_ids[data[\"FamilySize\"] < 3] = -1\n",
    "\n",
    "    # Print the count of each unique id.\n",
    "    #     print(pd.value_counts(family_ids))\n",
    "\n",
    "    data[\"FamilyId\"] = family_ids\n",
    "    return data\n"
   ]
  },
  {
   "cell_type": "code",
   "execution_count": 13,
   "metadata": {
    "collapsed": false
   },
   "outputs": [],
   "source": [
    "df = titanic = pd.read_csv(\"data/train.csv\")\n",
    "titanic = preprocess(df)"
   ]
  },
  {
   "cell_type": "markdown",
   "metadata": {
    "collapsed": true
   },
   "source": [
    "## Training & Evaluation"
   ]
  },
  {
   "cell_type": "code",
   "execution_count": 14,
   "metadata": {
    "collapsed": true
   },
   "outputs": [],
   "source": [
    "from sklearn.ensemble import GradientBoostingClassifier\n",
    "from sklearn import  grid_search\n",
    "from sklearn.metrics import classification_report\n"
   ]
  },
  {
   "cell_type": "markdown",
   "metadata": {},
   "source": [
    "### Decision Tree"
   ]
  },
  {
   "cell_type": "code",
   "execution_count": 15,
   "metadata": {
    "collapsed": false
   },
   "outputs": [
    {
     "name": "stdout",
     "output_type": "stream",
     "text": [
      "Best parameters set found on training set:\n",
      "\n",
      "{'max_features': None, 'max_depth': 9}\n",
      "Best parameters set found on training set:\n",
      "\n",
      "0.840628507295\n",
      "\n",
      "Grid scores on training set:\n",
      "\n",
      "0.790 (+/-0.052) for {'max_features': 'auto', 'max_depth': 1}\n",
      "0.779 (+/-0.073) for {'max_features': 'sqrt', 'max_depth': 1}\n",
      "0.768 (+/-0.134) for {'max_features': 'log2', 'max_depth': 1}\n",
      "0.782 (+/-0.066) for {'max_features': None, 'max_depth': 1}\n",
      "0.783 (+/-0.068) for {'max_features': 'auto', 'max_depth': 2}\n",
      "0.785 (+/-0.070) for {'max_features': 'sqrt', 'max_depth': 2}\n",
      "0.780 (+/-0.067) for {'max_features': 'log2', 'max_depth': 2}\n",
      "0.789 (+/-0.076) for {'max_features': None, 'max_depth': 2}\n",
      "0.781 (+/-0.111) for {'max_features': 'auto', 'max_depth': 3}\n",
      "0.789 (+/-0.054) for {'max_features': 'sqrt', 'max_depth': 3}\n",
      "0.779 (+/-0.087) for {'max_features': 'log2', 'max_depth': 3}\n",
      "0.825 (+/-0.063) for {'max_features': None, 'max_depth': 3}\n",
      "0.806 (+/-0.099) for {'max_features': 'auto', 'max_depth': 4}\n",
      "0.809 (+/-0.079) for {'max_features': 'sqrt', 'max_depth': 4}\n",
      "0.806 (+/-0.071) for {'max_features': 'log2', 'max_depth': 4}\n",
      "0.828 (+/-0.058) for {'max_features': None, 'max_depth': 4}\n",
      "0.817 (+/-0.093) for {'max_features': 'auto', 'max_depth': 5}\n",
      "0.802 (+/-0.099) for {'max_features': 'sqrt', 'max_depth': 5}\n",
      "0.805 (+/-0.082) for {'max_features': 'log2', 'max_depth': 5}\n",
      "0.817 (+/-0.080) for {'max_features': None, 'max_depth': 5}\n",
      "0.822 (+/-0.097) for {'max_features': 'auto', 'max_depth': 6}\n",
      "0.824 (+/-0.071) for {'max_features': 'sqrt', 'max_depth': 6}\n",
      "0.825 (+/-0.070) for {'max_features': 'log2', 'max_depth': 6}\n",
      "0.828 (+/-0.062) for {'max_features': None, 'max_depth': 6}\n",
      "0.817 (+/-0.087) for {'max_features': 'auto', 'max_depth': 7}\n",
      "0.823 (+/-0.098) for {'max_features': 'sqrt', 'max_depth': 7}\n",
      "0.817 (+/-0.068) for {'max_features': 'log2', 'max_depth': 7}\n",
      "0.831 (+/-0.063) for {'max_features': None, 'max_depth': 7}\n",
      "0.816 (+/-0.078) for {'max_features': 'auto', 'max_depth': 8}\n",
      "0.827 (+/-0.078) for {'max_features': 'sqrt', 'max_depth': 8}\n",
      "0.824 (+/-0.098) for {'max_features': 'log2', 'max_depth': 8}\n",
      "0.828 (+/-0.061) for {'max_features': None, 'max_depth': 8}\n",
      "0.820 (+/-0.091) for {'max_features': 'auto', 'max_depth': 9}\n",
      "0.828 (+/-0.075) for {'max_features': 'sqrt', 'max_depth': 9}\n",
      "0.819 (+/-0.093) for {'max_features': 'log2', 'max_depth': 9}\n",
      "0.841 (+/-0.056) for {'max_features': None, 'max_depth': 9}\n",
      "0.810 (+/-0.057) for {'max_features': 'auto', 'max_depth': 10}\n",
      "0.822 (+/-0.068) for {'max_features': 'sqrt', 'max_depth': 10}\n",
      "0.820 (+/-0.074) for {'max_features': 'log2', 'max_depth': 10}\n",
      "0.834 (+/-0.070) for {'max_features': None, 'max_depth': 10}\n",
      "0.819 (+/-0.065) for {'max_features': 'auto', 'max_depth': 11}\n",
      "0.811 (+/-0.084) for {'max_features': 'sqrt', 'max_depth': 11}\n",
      "0.825 (+/-0.073) for {'max_features': 'log2', 'max_depth': 11}\n",
      "0.829 (+/-0.063) for {'max_features': None, 'max_depth': 11}\n",
      "0.814 (+/-0.088) for {'max_features': 'auto', 'max_depth': 12}\n",
      "0.813 (+/-0.081) for {'max_features': 'sqrt', 'max_depth': 12}\n",
      "0.815 (+/-0.087) for {'max_features': 'log2', 'max_depth': 12}\n",
      "0.832 (+/-0.064) for {'max_features': None, 'max_depth': 12}\n",
      "0.815 (+/-0.057) for {'max_features': 'auto', 'max_depth': 13}\n",
      "0.814 (+/-0.072) for {'max_features': 'sqrt', 'max_depth': 13}\n",
      "0.813 (+/-0.077) for {'max_features': 'log2', 'max_depth': 13}\n",
      "0.831 (+/-0.054) for {'max_features': None, 'max_depth': 13}\n",
      "0.823 (+/-0.071) for {'max_features': 'auto', 'max_depth': 14}\n",
      "0.809 (+/-0.068) for {'max_features': 'sqrt', 'max_depth': 14}\n",
      "0.815 (+/-0.068) for {'max_features': 'log2', 'max_depth': 14}\n",
      "0.831 (+/-0.056) for {'max_features': None, 'max_depth': 14}\n",
      "0.818 (+/-0.058) for {'max_features': 'auto', 'max_depth': 15}\n",
      "0.819 (+/-0.061) for {'max_features': 'sqrt', 'max_depth': 15}\n",
      "0.817 (+/-0.072) for {'max_features': 'log2', 'max_depth': 15}\n",
      "0.827 (+/-0.056) for {'max_features': None, 'max_depth': 15}\n",
      "0.813 (+/-0.069) for {'max_features': 'auto', 'max_depth': 16}\n",
      "0.810 (+/-0.056) for {'max_features': 'sqrt', 'max_depth': 16}\n",
      "0.809 (+/-0.059) for {'max_features': 'log2', 'max_depth': 16}\n",
      "0.827 (+/-0.048) for {'max_features': None, 'max_depth': 16}\n",
      "0.811 (+/-0.057) for {'max_features': 'auto', 'max_depth': 17}\n",
      "0.816 (+/-0.063) for {'max_features': 'sqrt', 'max_depth': 17}\n",
      "0.814 (+/-0.058) for {'max_features': 'log2', 'max_depth': 17}\n",
      "0.826 (+/-0.046) for {'max_features': None, 'max_depth': 17}\n",
      "0.818 (+/-0.054) for {'max_features': 'auto', 'max_depth': 18}\n",
      "0.814 (+/-0.063) for {'max_features': 'sqrt', 'max_depth': 18}\n",
      "0.810 (+/-0.052) for {'max_features': 'log2', 'max_depth': 18}\n",
      "0.827 (+/-0.046) for {'max_features': None, 'max_depth': 18}\n",
      "0.813 (+/-0.058) for {'max_features': 'auto', 'max_depth': 19}\n",
      "0.811 (+/-0.060) for {'max_features': 'sqrt', 'max_depth': 19}\n",
      "0.813 (+/-0.059) for {'max_features': 'log2', 'max_depth': 19}\n",
      "0.825 (+/-0.048) for {'max_features': None, 'max_depth': 19}\n"
     ]
    }
   ],
   "source": [
    "parameters = {'max_depth':range(1,20), \n",
    "              'max_features': [\"auto\", \"sqrt\", \"log2\", None]\n",
    "             }\n",
    "dtgscv = grid_search.GridSearchCV(DecisionTreeClassifier(), parameters, cv=10, n_jobs=-1)\n",
    "dtgscv.fit(titanic[predictors], titanic[\"Survived\"])\n",
    "dtree = dtgscv.best_estimator_\n",
    "\n",
    "print(\"Best parameters set found on training set:\")\n",
    "print\n",
    "print(dtgscv.best_params_)\n",
    "print(\"Best parameters set found on training set:\")\n",
    "print\n",
    "print(dtgscv.best_score_)\n",
    "print\n",
    "print(\"Grid scores on training set:\")\n",
    "print\n",
    "for params, mean_score, scores in dtgscv.grid_scores_:\n",
    "    print(\"%0.3f (+/-%0.03f) for %r\"\n",
    "          % (mean_score, scores.std() * 2, params))"
   ]
  },
  {
   "cell_type": "markdown",
   "metadata": {},
   "source": [
    "### Random Forest\n",
    "\n",
    "#### Parameter Tuning\n",
    "\n",
    "The first, and easiest, thing we can do to improve the accuracy of the random forest is to increase the number of trees we're using. Training more trees will take more time, but because of the fact that we're averaging many predictions made on different subsets of the data, having more trees will increase accuracy greatly (up to a point).\n",
    "\n",
    "We can also tweak the min_samples_split and min_samples_leaf variables to reduce overfitting. Because of how a decision tree works (as we explained in the video), having splits that go all the way down, or overly deep in the tree can result in fitting to quirks in the dataset, and not true signal. Thus, increasing min_samples_split and min_samples_leaf can reduce overfitting, which will actually improve our score, as we're making predictions on unseen data. A model that is less overfit, and that can generalize better, will actually perform better on unseen data, but worse on seen data."
   ]
  },
  {
   "cell_type": "code",
   "execution_count": 16,
   "metadata": {
    "collapsed": false
   },
   "outputs": [
    {
     "name": "stdout",
     "output_type": "stream",
     "text": [
      "Best parameters set found on training set:\n",
      "\n",
      "{'min_samples_split': 5, 'n_estimators': 150}\n",
      "\n",
      "Best parameters set found on training set:\n",
      "\n",
      "0.828282828283\n",
      "\n",
      "Grid scores on training set:\n",
      "\n",
      "0.818 (+/-0.064) for {'min_samples_split': 1, 'n_estimators': 100}\n",
      "0.811 (+/-0.064) for {'min_samples_split': 1, 'n_estimators': 150}\n",
      "0.817 (+/-0.060) for {'min_samples_split': 1, 'n_estimators': 200}\n",
      "0.818 (+/-0.058) for {'min_samples_split': 2, 'n_estimators': 100}\n",
      "0.818 (+/-0.060) for {'min_samples_split': 2, 'n_estimators': 150}\n",
      "0.817 (+/-0.064) for {'min_samples_split': 2, 'n_estimators': 200}\n",
      "0.819 (+/-0.064) for {'min_samples_split': 3, 'n_estimators': 100}\n",
      "0.819 (+/-0.058) for {'min_samples_split': 3, 'n_estimators': 150}\n",
      "0.823 (+/-0.057) for {'min_samples_split': 3, 'n_estimators': 200}\n",
      "0.820 (+/-0.055) for {'min_samples_split': 4, 'n_estimators': 100}\n",
      "0.819 (+/-0.056) for {'min_samples_split': 4, 'n_estimators': 150}\n",
      "0.818 (+/-0.061) for {'min_samples_split': 4, 'n_estimators': 200}\n",
      "0.823 (+/-0.060) for {'min_samples_split': 5, 'n_estimators': 100}\n",
      "0.828 (+/-0.056) for {'min_samples_split': 5, 'n_estimators': 150}\n",
      "0.820 (+/-0.055) for {'min_samples_split': 5, 'n_estimators': 200}\n",
      "0.820 (+/-0.060) for {'min_samples_split': 6, 'n_estimators': 100}\n",
      "0.819 (+/-0.059) for {'min_samples_split': 6, 'n_estimators': 150}\n",
      "0.823 (+/-0.058) for {'min_samples_split': 6, 'n_estimators': 200}\n",
      "0.823 (+/-0.068) for {'min_samples_split': 7, 'n_estimators': 100}\n",
      "0.824 (+/-0.058) for {'min_samples_split': 7, 'n_estimators': 150}\n",
      "0.824 (+/-0.064) for {'min_samples_split': 7, 'n_estimators': 200}\n",
      "0.824 (+/-0.064) for {'min_samples_split': 8, 'n_estimators': 100}\n",
      "0.819 (+/-0.060) for {'min_samples_split': 8, 'n_estimators': 150}\n",
      "0.823 (+/-0.058) for {'min_samples_split': 8, 'n_estimators': 200}\n",
      "0.824 (+/-0.061) for {'min_samples_split': 9, 'n_estimators': 100}\n",
      "0.825 (+/-0.067) for {'min_samples_split': 9, 'n_estimators': 150}\n",
      "0.822 (+/-0.068) for {'min_samples_split': 9, 'n_estimators': 200}\n"
     ]
    }
   ],
   "source": [
    "# alg = RandomForestClassifier(random_state=1, n_estimators=150, min_samples_split=4, min_samples_leaf=2)\n",
    "\n",
    "parameters = {\n",
    "    \"n_estimators\": [100, 150, 200], \n",
    "    \"min_samples_split\": range(1,10), \n",
    "#     \"min_samples_leaf\": range(1,10)\n",
    "    }\n",
    "rff_gscv = grid_search.GridSearchCV(RandomForestClassifier(), parameters, cv=10, n_jobs=-1)\n",
    "rff_gscv.fit(titanic[predictors], titanic[\"Survived\"])\n",
    "rfc = rff_gscv.best_estimator_\n",
    "\n",
    "print(\"Best parameters set found on training set:\")\n",
    "print\n",
    "print(rff_gscv.best_params_)\n",
    "print\n",
    "print(\"Best parameters set found on training set:\")\n",
    "print\n",
    "print(rff_gscv.best_score_)\n",
    "print\n",
    "print(\"Grid scores on training set:\")\n",
    "print\n",
    "for params, mean_score, scores in rff_gscv.grid_scores_:\n",
    "    print(\"%0.3f (+/-%0.03f) for %r\"\n",
    "          % (mean_score, scores.std() * 2, params))"
   ]
  },
  {
   "cell_type": "markdown",
   "metadata": {
    "collapsed": false
   },
   "source": [
    "### Gradient Boosted\n",
    "\n",
    "Another method that builds on decision trees is a gradient boosting classifier. Boosting involves training decision trees one after another, and feeding the errors from one tree into the next tree. So each tree is building on all the other trees that came before it. This can lead to overfitting if we build too many trees, though. As you get above 100 trees or so, it's very easy to overfit and train to quirks in the dataset. As our dataset is extremely small, we'll limit the tree count to just 25.\n",
    "\n",
    "Another way to limit overfitting is to limit the depth to which each tree in the gradient boosting process can be built. We'll limit the tree depth to 3 to avoid overfitting.\n",
    "\n",
    "We'll try boosting instead of our random forest approach and see if we can improve our accuracy."
   ]
  },
  {
   "cell_type": "code",
   "execution_count": 17,
   "metadata": {
    "collapsed": false
   },
   "outputs": [
    {
     "name": "stdout",
     "output_type": "stream",
     "text": [
      "Best parameters set found on training set:\n",
      "\n",
      "{'n_estimators': 100, 'learning_rate': 1, 'max_depth': 2}\n",
      "Best parameters set found on training set:\n",
      "\n",
      "0.821548821549\n",
      "\n",
      "Grid scores on training set:\n",
      "\n",
      "0.815 (+/-0.038) for {'n_estimators': 100, 'learning_rate': 1, 'max_depth': 1}\n",
      "0.809 (+/-0.033) for {'n_estimators': 150, 'learning_rate': 1, 'max_depth': 1}\n",
      "0.822 (+/-0.050) for {'n_estimators': 100, 'learning_rate': 1, 'max_depth': 2}\n",
      "0.817 (+/-0.073) for {'n_estimators': 150, 'learning_rate': 1, 'max_depth': 2}\n",
      "0.804 (+/-0.063) for {'n_estimators': 100, 'learning_rate': 1, 'max_depth': 3}\n",
      "0.811 (+/-0.074) for {'n_estimators': 150, 'learning_rate': 1, 'max_depth': 3}\n",
      "0.804 (+/-0.069) for {'n_estimators': 100, 'learning_rate': 1, 'max_depth': 4}\n",
      "0.807 (+/-0.063) for {'n_estimators': 150, 'learning_rate': 1, 'max_depth': 4}\n",
      "0.791 (+/-0.070) for {'n_estimators': 100, 'learning_rate': 1, 'max_depth': 5}\n",
      "0.797 (+/-0.070) for {'n_estimators': 150, 'learning_rate': 1, 'max_depth': 5}\n",
      "0.806 (+/-0.062) for {'n_estimators': 100, 'learning_rate': 1, 'max_depth': 6}\n",
      "0.798 (+/-0.067) for {'n_estimators': 150, 'learning_rate': 1, 'max_depth': 6}\n",
      "0.802 (+/-0.064) for {'n_estimators': 100, 'learning_rate': 1, 'max_depth': 7}\n",
      "0.806 (+/-0.076) for {'n_estimators': 150, 'learning_rate': 1, 'max_depth': 7}\n",
      "0.804 (+/-0.072) for {'n_estimators': 100, 'learning_rate': 1, 'max_depth': 8}\n",
      "0.801 (+/-0.063) for {'n_estimators': 150, 'learning_rate': 1, 'max_depth': 8}\n",
      "0.799 (+/-0.073) for {'n_estimators': 100, 'learning_rate': 1, 'max_depth': 9}\n",
      "0.801 (+/-0.074) for {'n_estimators': 150, 'learning_rate': 1, 'max_depth': 9}\n",
      "0.477 (+/-0.394) for {'n_estimators': 100, 'learning_rate': 2, 'max_depth': 1}\n",
      "0.477 (+/-0.394) for {'n_estimators': 150, 'learning_rate': 2, 'max_depth': 1}\n",
      "0.676 (+/-0.116) for {'n_estimators': 100, 'learning_rate': 2, 'max_depth': 2}\n",
      "0.676 (+/-0.116) for {'n_estimators': 150, 'learning_rate': 2, 'max_depth': 2}\n",
      "0.561 (+/-0.317) for {'n_estimators': 100, 'learning_rate': 2, 'max_depth': 3}\n",
      "0.560 (+/-0.319) for {'n_estimators': 150, 'learning_rate': 2, 'max_depth': 3}\n",
      "0.513 (+/-0.275) for {'n_estimators': 100, 'learning_rate': 2, 'max_depth': 4}\n",
      "0.539 (+/-0.243) for {'n_estimators': 150, 'learning_rate': 2, 'max_depth': 4}\n",
      "0.604 (+/-0.139) for {'n_estimators': 100, 'learning_rate': 2, 'max_depth': 5}\n",
      "0.604 (+/-0.139) for {'n_estimators': 150, 'learning_rate': 2, 'max_depth': 5}\n",
      "0.467 (+/-0.128) for {'n_estimators': 100, 'learning_rate': 2, 'max_depth': 6}\n",
      "0.483 (+/-0.092) for {'n_estimators': 150, 'learning_rate': 2, 'max_depth': 6}\n",
      "0.486 (+/-0.179) for {'n_estimators': 100, 'learning_rate': 2, 'max_depth': 7}\n",
      "0.489 (+/-0.209) for {'n_estimators': 150, 'learning_rate': 2, 'max_depth': 7}\n",
      "0.651 (+/-0.072) for {'n_estimators': 100, 'learning_rate': 2, 'max_depth': 8}\n",
      "0.651 (+/-0.072) for {'n_estimators': 150, 'learning_rate': 2, 'max_depth': 8}\n",
      "0.629 (+/-0.108) for {'n_estimators': 100, 'learning_rate': 2, 'max_depth': 9}\n",
      "0.630 (+/-0.110) for {'n_estimators': 150, 'learning_rate': 2, 'max_depth': 9}\n",
      "0.639 (+/-0.360) for {'n_estimators': 100, 'learning_rate': 3, 'max_depth': 1}\n",
      "0.639 (+/-0.360) for {'n_estimators': 150, 'learning_rate': 3, 'max_depth': 1}\n",
      "0.556 (+/-0.288) for {'n_estimators': 100, 'learning_rate': 3, 'max_depth': 2}\n",
      "0.556 (+/-0.288) for {'n_estimators': 150, 'learning_rate': 3, 'max_depth': 2}\n",
      "0.606 (+/-0.326) for {'n_estimators': 100, 'learning_rate': 3, 'max_depth': 3}\n",
      "0.606 (+/-0.326) for {'n_estimators': 150, 'learning_rate': 3, 'max_depth': 3}\n",
      "0.328 (+/-0.212) for {'n_estimators': 100, 'learning_rate': 3, 'max_depth': 4}\n",
      "0.328 (+/-0.212) for {'n_estimators': 150, 'learning_rate': 3, 'max_depth': 4}\n",
      "0.461 (+/-0.201) for {'n_estimators': 100, 'learning_rate': 3, 'max_depth': 5}\n",
      "0.464 (+/-0.206) for {'n_estimators': 150, 'learning_rate': 3, 'max_depth': 5}\n",
      "0.594 (+/-0.160) for {'n_estimators': 100, 'learning_rate': 3, 'max_depth': 6}\n",
      "0.595 (+/-0.157) for {'n_estimators': 150, 'learning_rate': 3, 'max_depth': 6}\n",
      "0.538 (+/-0.075) for {'n_estimators': 100, 'learning_rate': 3, 'max_depth': 7}\n",
      "0.536 (+/-0.073) for {'n_estimators': 150, 'learning_rate': 3, 'max_depth': 7}\n",
      "0.598 (+/-0.013) for {'n_estimators': 100, 'learning_rate': 3, 'max_depth': 8}\n",
      "0.597 (+/-0.011) for {'n_estimators': 150, 'learning_rate': 3, 'max_depth': 8}\n",
      "0.688 (+/-0.052) for {'n_estimators': 100, 'learning_rate': 3, 'max_depth': 9}\n",
      "0.688 (+/-0.052) for {'n_estimators': 150, 'learning_rate': 3, 'max_depth': 9}\n",
      "0.652 (+/-0.380) for {'n_estimators': 100, 'learning_rate': 4, 'max_depth': 1}\n",
      "0.652 (+/-0.380) for {'n_estimators': 150, 'learning_rate': 4, 'max_depth': 1}\n",
      "0.431 (+/-0.483) for {'n_estimators': 100, 'learning_rate': 4, 'max_depth': 2}\n",
      "0.431 (+/-0.483) for {'n_estimators': 150, 'learning_rate': 4, 'max_depth': 2}\n",
      "0.608 (+/-0.242) for {'n_estimators': 100, 'learning_rate': 4, 'max_depth': 3}\n",
      "0.608 (+/-0.242) for {'n_estimators': 150, 'learning_rate': 4, 'max_depth': 3}\n",
      "0.460 (+/-0.392) for {'n_estimators': 100, 'learning_rate': 4, 'max_depth': 4}\n",
      "0.461 (+/-0.389) for {'n_estimators': 150, 'learning_rate': 4, 'max_depth': 4}\n",
      "0.404 (+/-0.020) for {'n_estimators': 100, 'learning_rate': 4, 'max_depth': 5}\n",
      "0.404 (+/-0.020) for {'n_estimators': 150, 'learning_rate': 4, 'max_depth': 5}\n",
      "0.489 (+/-0.165) for {'n_estimators': 100, 'learning_rate': 4, 'max_depth': 6}\n",
      "0.502 (+/-0.150) for {'n_estimators': 150, 'learning_rate': 4, 'max_depth': 6}\n",
      "0.496 (+/-0.066) for {'n_estimators': 100, 'learning_rate': 4, 'max_depth': 7}\n",
      "0.496 (+/-0.066) for {'n_estimators': 150, 'learning_rate': 4, 'max_depth': 7}\n",
      "0.513 (+/-0.077) for {'n_estimators': 100, 'learning_rate': 4, 'max_depth': 8}\n",
      "0.519 (+/-0.065) for {'n_estimators': 150, 'learning_rate': 4, 'max_depth': 8}\n",
      "0.606 (+/-0.043) for {'n_estimators': 100, 'learning_rate': 4, 'max_depth': 9}\n",
      "0.612 (+/-0.049) for {'n_estimators': 150, 'learning_rate': 4, 'max_depth': 9}\n",
      "0.222 (+/-0.034) for {'n_estimators': 100, 'learning_rate': 5, 'max_depth': 1}\n",
      "0.222 (+/-0.034) for {'n_estimators': 150, 'learning_rate': 5, 'max_depth': 1}\n",
      "0.385 (+/-0.461) for {'n_estimators': 100, 'learning_rate': 5, 'max_depth': 2}\n",
      "0.385 (+/-0.461) for {'n_estimators': 150, 'learning_rate': 5, 'max_depth': 2}\n",
      "0.311 (+/-0.127) for {'n_estimators': 100, 'learning_rate': 5, 'max_depth': 3}\n",
      "0.311 (+/-0.127) for {'n_estimators': 150, 'learning_rate': 5, 'max_depth': 3}\n",
      "0.375 (+/-0.041) for {'n_estimators': 100, 'learning_rate': 5, 'max_depth': 4}\n",
      "0.375 (+/-0.041) for {'n_estimators': 150, 'learning_rate': 5, 'max_depth': 4}\n",
      "0.490 (+/-0.387) for {'n_estimators': 100, 'learning_rate': 5, 'max_depth': 5}\n",
      "0.464 (+/-0.430) for {'n_estimators': 150, 'learning_rate': 5, 'max_depth': 5}\n",
      "0.409 (+/-0.086) for {'n_estimators': 100, 'learning_rate': 5, 'max_depth': 6}\n",
      "0.426 (+/-0.061) for {'n_estimators': 150, 'learning_rate': 5, 'max_depth': 6}\n",
      "0.507 (+/-0.091) for {'n_estimators': 100, 'learning_rate': 5, 'max_depth': 7}\n",
      "0.508 (+/-0.088) for {'n_estimators': 150, 'learning_rate': 5, 'max_depth': 7}\n",
      "0.562 (+/-0.139) for {'n_estimators': 100, 'learning_rate': 5, 'max_depth': 8}\n",
      "0.566 (+/-0.143) for {'n_estimators': 150, 'learning_rate': 5, 'max_depth': 8}\n",
      "0.586 (+/-0.020) for {'n_estimators': 100, 'learning_rate': 5, 'max_depth': 9}\n",
      "0.570 (+/-0.051) for {'n_estimators': 150, 'learning_rate': 5, 'max_depth': 9}\n",
      "0.222 (+/-0.034) for {'n_estimators': 100, 'learning_rate': 6, 'max_depth': 1}\n",
      "0.222 (+/-0.034) for {'n_estimators': 150, 'learning_rate': 6, 'max_depth': 1}\n",
      "0.352 (+/-0.365) for {'n_estimators': 100, 'learning_rate': 6, 'max_depth': 2}\n",
      "0.352 (+/-0.365) for {'n_estimators': 150, 'learning_rate': 6, 'max_depth': 2}\n",
      "0.468 (+/-0.300) for {'n_estimators': 100, 'learning_rate': 6, 'max_depth': 3}\n",
      "0.468 (+/-0.300) for {'n_estimators': 150, 'learning_rate': 6, 'max_depth': 3}\n",
      "0.374 (+/-0.040) for {'n_estimators': 100, 'learning_rate': 6, 'max_depth': 4}\n",
      "0.374 (+/-0.040) for {'n_estimators': 150, 'learning_rate': 6, 'max_depth': 4}\n",
      "0.412 (+/-0.036) for {'n_estimators': 100, 'learning_rate': 6, 'max_depth': 5}\n",
      "0.412 (+/-0.036) for {'n_estimators': 150, 'learning_rate': 6, 'max_depth': 5}\n",
      "0.455 (+/-0.049) for {'n_estimators': 100, 'learning_rate': 6, 'max_depth': 6}\n",
      "0.453 (+/-0.047) for {'n_estimators': 150, 'learning_rate': 6, 'max_depth': 6}\n",
      "0.485 (+/-0.044) for {'n_estimators': 100, 'learning_rate': 6, 'max_depth': 7}\n",
      "0.485 (+/-0.044) for {'n_estimators': 150, 'learning_rate': 6, 'max_depth': 7}\n",
      "0.542 (+/-0.125) for {'n_estimators': 100, 'learning_rate': 6, 'max_depth': 8}\n",
      "0.543 (+/-0.119) for {'n_estimators': 150, 'learning_rate': 6, 'max_depth': 8}\n",
      "0.591 (+/-0.030) for {'n_estimators': 100, 'learning_rate': 6, 'max_depth': 9}\n",
      "0.591 (+/-0.030) for {'n_estimators': 150, 'learning_rate': 6, 'max_depth': 9}\n",
      "0.222 (+/-0.034) for {'n_estimators': 100, 'learning_rate': 7, 'max_depth': 1}\n",
      "0.222 (+/-0.034) for {'n_estimators': 150, 'learning_rate': 7, 'max_depth': 1}\n",
      "0.270 (+/-0.158) for {'n_estimators': 100, 'learning_rate': 7, 'max_depth': 2}\n",
      "0.270 (+/-0.158) for {'n_estimators': 150, 'learning_rate': 7, 'max_depth': 2}\n",
      "0.416 (+/-0.262) for {'n_estimators': 100, 'learning_rate': 7, 'max_depth': 3}\n",
      "0.416 (+/-0.262) for {'n_estimators': 150, 'learning_rate': 7, 'max_depth': 3}\n",
      "0.416 (+/-0.100) for {'n_estimators': 100, 'learning_rate': 7, 'max_depth': 4}\n",
      "0.416 (+/-0.100) for {'n_estimators': 150, 'learning_rate': 7, 'max_depth': 4}\n",
      "0.505 (+/-0.367) for {'n_estimators': 100, 'learning_rate': 7, 'max_depth': 5}\n",
      "0.499 (+/-0.375) for {'n_estimators': 150, 'learning_rate': 7, 'max_depth': 5}\n",
      "0.407 (+/-0.092) for {'n_estimators': 100, 'learning_rate': 7, 'max_depth': 6}\n",
      "0.410 (+/-0.086) for {'n_estimators': 150, 'learning_rate': 7, 'max_depth': 6}\n",
      "0.457 (+/-0.046) for {'n_estimators': 100, 'learning_rate': 7, 'max_depth': 7}\n",
      "0.441 (+/-0.011) for {'n_estimators': 150, 'learning_rate': 7, 'max_depth': 7}\n",
      "0.545 (+/-0.069) for {'n_estimators': 100, 'learning_rate': 7, 'max_depth': 8}\n",
      "0.542 (+/-0.074) for {'n_estimators': 150, 'learning_rate': 7, 'max_depth': 8}\n",
      "0.579 (+/-0.074) for {'n_estimators': 100, 'learning_rate': 7, 'max_depth': 9}\n",
      "0.586 (+/-0.062) for {'n_estimators': 150, 'learning_rate': 7, 'max_depth': 9}\n",
      "0.222 (+/-0.034) for {'n_estimators': 100, 'learning_rate': 8, 'max_depth': 1}\n",
      "0.222 (+/-0.034) for {'n_estimators': 150, 'learning_rate': 8, 'max_depth': 1}\n",
      "0.270 (+/-0.158) for {'n_estimators': 100, 'learning_rate': 8, 'max_depth': 2}\n",
      "0.270 (+/-0.158) for {'n_estimators': 150, 'learning_rate': 8, 'max_depth': 2}\n",
      "0.426 (+/-0.253) for {'n_estimators': 100, 'learning_rate': 8, 'max_depth': 3}\n",
      "0.426 (+/-0.253) for {'n_estimators': 150, 'learning_rate': 8, 'max_depth': 3}\n",
      "0.382 (+/-0.094) for {'n_estimators': 100, 'learning_rate': 8, 'max_depth': 4}\n",
      "0.382 (+/-0.094) for {'n_estimators': 150, 'learning_rate': 8, 'max_depth': 4}\n",
      "0.515 (+/-0.315) for {'n_estimators': 100, 'learning_rate': 8, 'max_depth': 5}\n",
      "0.519 (+/-0.310) for {'n_estimators': 150, 'learning_rate': 8, 'max_depth': 5}\n",
      "0.420 (+/-0.105) for {'n_estimators': 100, 'learning_rate': 8, 'max_depth': 6}\n",
      "0.420 (+/-0.105) for {'n_estimators': 150, 'learning_rate': 8, 'max_depth': 6}\n",
      "0.485 (+/-0.067) for {'n_estimators': 100, 'learning_rate': 8, 'max_depth': 7}\n",
      "0.492 (+/-0.088) for {'n_estimators': 150, 'learning_rate': 8, 'max_depth': 7}\n",
      "0.519 (+/-0.052) for {'n_estimators': 100, 'learning_rate': 8, 'max_depth': 8}\n",
      "0.519 (+/-0.052) for {'n_estimators': 150, 'learning_rate': 8, 'max_depth': 8}\n",
      "0.587 (+/-0.056) for {'n_estimators': 100, 'learning_rate': 8, 'max_depth': 9}\n",
      "0.589 (+/-0.052) for {'n_estimators': 150, 'learning_rate': 8, 'max_depth': 9}\n",
      "0.222 (+/-0.034) for {'n_estimators': 100, 'learning_rate': 9, 'max_depth': 1}\n",
      "0.222 (+/-0.034) for {'n_estimators': 150, 'learning_rate': 9, 'max_depth': 1}\n",
      "0.273 (+/-0.164) for {'n_estimators': 100, 'learning_rate': 9, 'max_depth': 2}\n",
      "0.273 (+/-0.164) for {'n_estimators': 150, 'learning_rate': 9, 'max_depth': 2}\n",
      "0.283 (+/-0.104) for {'n_estimators': 100, 'learning_rate': 9, 'max_depth': 3}\n",
      "0.283 (+/-0.104) for {'n_estimators': 150, 'learning_rate': 9, 'max_depth': 3}\n",
      "0.438 (+/-0.367) for {'n_estimators': 100, 'learning_rate': 9, 'max_depth': 4}\n",
      "0.438 (+/-0.367) for {'n_estimators': 150, 'learning_rate': 9, 'max_depth': 4}\n",
      "0.475 (+/-0.378) for {'n_estimators': 100, 'learning_rate': 9, 'max_depth': 5}\n",
      "0.485 (+/-0.368) for {'n_estimators': 150, 'learning_rate': 9, 'max_depth': 5}\n",
      "0.443 (+/-0.147) for {'n_estimators': 100, 'learning_rate': 9, 'max_depth': 6}\n",
      "0.450 (+/-0.125) for {'n_estimators': 150, 'learning_rate': 9, 'max_depth': 6}\n",
      "0.415 (+/-0.032) for {'n_estimators': 100, 'learning_rate': 9, 'max_depth': 7}\n",
      "0.458 (+/-0.099) for {'n_estimators': 150, 'learning_rate': 9, 'max_depth': 7}\n",
      "0.508 (+/-0.025) for {'n_estimators': 100, 'learning_rate': 9, 'max_depth': 8}\n",
      "0.508 (+/-0.029) for {'n_estimators': 150, 'learning_rate': 9, 'max_depth': 8}\n",
      "0.584 (+/-0.071) for {'n_estimators': 100, 'learning_rate': 9, 'max_depth': 9}\n",
      "0.590 (+/-0.060) for {'n_estimators': 150, 'learning_rate': 9, 'max_depth': 9}\n"
     ]
    }
   ],
   "source": [
    "# alg = GradientBoostingClassifier(n_estimators=100, learning_rate=1.0, max_depth=1, random_state=0)\n",
    "\n",
    "parameters = {\n",
    "    \"learning_rate\": range(1,10), \n",
    "    \"n_estimators\": [ 100, 150], \n",
    "    \"max_depth\": range(1,10)\n",
    "    }\n",
    "gbc_gscv = grid_search.GridSearchCV(GradientBoostingClassifier(), parameters, cv=3, n_jobs = -1)\n",
    "gbc_gscv.fit(titanic[predictors], titanic[\"Survived\"])\n",
    "gbc = gbc_gscv.best_estimator_\n",
    "\n",
    "print(\"Best parameters set found on training set:\")\n",
    "print\n",
    "print(gbc_gscv.best_params_)\n",
    "print(\"Best parameters set found on training set:\")\n",
    "print\n",
    "print(gbc_gscv.best_score_)\n",
    "print\n",
    "print(\"Grid scores on training set:\")\n",
    "print\n",
    "for params, mean_score, scores in gbc_gscv.grid_scores_:\n",
    "    print(\"%0.3f (+/-%0.03f) for %r\"\n",
    "          % (mean_score, scores.std() * 2, params))"
   ]
  },
  {
   "cell_type": "markdown",
   "metadata": {
    "collapsed": false
   },
   "source": [
    "## Kaggle Submission"
   ]
  },
  {
   "cell_type": "code",
   "execution_count": 18,
   "metadata": {
    "collapsed": true
   },
   "outputs": [],
   "source": [
    "test_data = pd.read_csv(\"data/test.csv\")\n",
    "titanic_test = preprocess(test_data.copy())\n",
    "\n",
    "models = [dtree, rfc, gbc]\n",
    "\n",
    "for model in models:\n",
    "    # Train the algorithm using all the training data\n",
    "    model.fit(titanic[predictors], titanic[\"Survived\"])\n",
    "\n",
    "    # Make predictions using the test set.\n",
    "    predictions = model.predict(titanic_test[predictors])\n",
    "\n",
    "    # Create a new dataframe with only the columns Kaggle wants from the dataset.\n",
    "    submission = pd.DataFrame({\n",
    "            \"PassengerId\": titanic_test[\"PassengerId\"],\n",
    "            \"Survived\": predictions\n",
    "        })\n",
    "    submission.to_csv(\"%s.csv\"%model.__class__.__name__, index=False)"
   ]
  },
  {
   "cell_type": "markdown",
   "metadata": {
    "collapsed": false
   },
   "source": [
    "## Decision Surfaces"
   ]
  },
  {
   "cell_type": "code",
   "execution_count": 19,
   "metadata": {
    "collapsed": false
   },
   "outputs": [
    {
     "data": {
      "image/png": "[encoded data removed]",
      "text/plain": [
       "<matplotlib.figure.Figure at 0x118fcbb50>"
      ]
     },
     "metadata": {},
     "output_type": "display_data"
    }
   ],
   "source": [
    "#plotting dicision boundries with columns Age and Fare. \n",
    "from itertools import product\n",
    "\n",
    "#Picking Age and Fare as they are continuous and highly correlated with Survived\n",
    "df = titanic\n",
    "X = df[['Age', 'Fare']].values\n",
    "y = df['Survived'].values\n",
    "\n",
    "# Training classifiers\n",
    "clf1 = DecisionTreeClassifier()\n",
    "clf2 = RandomForestClassifier()\n",
    "clf3 = GradientBoostingClassifier()\n",
    "\n",
    "#Fit models\n",
    "clf1.fit(X, y)\n",
    "clf2.fit(X, y)\n",
    "clf3.fit(X, y)\n",
    "\n",
    "# Plotting decision regions\n",
    "x_min, x_max = X[:, 0].min() - 1, X[:, 0].max() + 1\n",
    "y_min, y_max = X[:, 1].min() - 1, X[:, 1].max() + 1\n",
    "xx, yy = np.meshgrid(np.arange(x_min, x_max, 0.1),\n",
    "                     np.arange(y_min, y_max, 0.1))\n",
    "\n",
    "f, axarr = plt.subplots(1, 3, sharex='col', sharey='row', figsize=(15,4))\n",
    "\n",
    "for idx, clf, tt in zip(range(3),\n",
    "                        [clf1, clf2, clf3],\n",
    "                        ['Decision Tree', 'Random Forest',\n",
    "                         'Gradient Boost']):\n",
    "\n",
    "    Z = clf.predict(np.c_[xx.ravel(), yy.ravel()])\n",
    "    Z = Z.reshape(xx.shape)\n",
    "\n",
    "    axarr[idx].contourf(xx, yy, Z, alpha=0.4)\n",
    "    axarr[idx].scatter(X[:, 0], X[:, 1], c=y, alpha=0.8)\n",
    "    axarr[idx].set_title(tt, fontsize=14)\n",
    "    axarr[idx].axis('off')"
   ]
  },
  {
   "cell_type": "markdown",
   "metadata": {
    "collapsed": false
   },
   "source": [
    "All the plots have a similiar splitting scheme on the right side: splitting by age. After we split by fare teh descrepencies become clear. As more branches form we introduce risk of overfitting. As you can see the the DTree adn Random forest appear more prone to overfitting this dataset while the Gradient Boosted Clf. looks more resilient to overfitting."
   ]
  },
  {
   "cell_type": "markdown",
   "metadata": {
    "collapsed": true
   },
   "source": []
  },
  {
   "cell_type": "code",
   "execution_count": null,
   "metadata": {
    "collapsed": true
   },
   "outputs": [],
   "source": []
  }
 ],
 "metadata": {
  "kernelspec": {
   "display_name": "Python 2",
   "language": "python",
   "name": "python2"
  },
  "language_info": {
   "codemirror_mode": {
    "name": "ipython",
    "version": 2
   },
   "file_extension": ".py",
   "mimetype": "text/x-python",
   "name": "python",
   "nbconvert_exporter": "python",
   "pygments_lexer": "ipython2",
   "version": "2.7.11"
  }
 },
 "nbformat": 4,
 "nbformat_minor": 0
}
