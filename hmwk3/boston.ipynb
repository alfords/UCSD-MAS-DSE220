{
 "cells": [
  {
   "cell_type": "markdown",
   "metadata": {},
   "source": [
    "# Ensambles w/ Stacking"
   ]
  },
  {
   "cell_type": "code",
   "execution_count": 30,
   "metadata": {
    "collapsed": true
   },
   "outputs": [],
   "source": [
    "%matplotlib inline\n",
    "import pandas as pd\n",
    "import numpy as np\n",
    "import matplotlib.pyplot as plt\n",
    "from sklearn.datasets import load_boston\n",
    "from sklearn.cross_validation import train_test_split\n",
    "from sklearn.linear_model import LinearRegression\n",
    "from sklearn.linear_model import Ridge\n",
    "from sklearn.linear_model import Lasso\n",
    "from sklearn.metrics import mean_squared_error\n",
    "from sklearn.tree import DecisionTreeRegressor\n",
    "from sklearn.neighbors import KNeighborsRegressor\n",
    "from sklearn.feature_selection import SelectKBest\n",
    "from sklearn.feature_selection import f_regression\n",
    "from sklearn.tree import ExtraTreeRegressor\n",
    "from sklearn import preprocessing\n",
    "\n",
    "from sklearn.svm import SVR\n",
    "from sklearn import ensemble\n",
    "from sklearn.linear_model import LinearRegression"
   ]
  },
  {
   "cell_type": "code",
   "execution_count": 31,
   "metadata": {
    "collapsed": false
   },
   "outputs": [
    {
     "data": {
      "text/html": [
       "<div>\n",
       "<table border=\"1\" class=\"dataframe\">\n",
       "  <thead>\n",
       "    <tr style=\"text-align: right;\">\n",
       "      <th></th>\n",
       "      <th>CRIM</th>\n",
       "      <th>ZN</th>\n",
       "      <th>INDUS</th>\n",
       "      <th>CHAS</th>\n",
       "      <th>NOX</th>\n",
       "      <th>RM</th>\n",
       "      <th>AGE</th>\n",
       "      <th>DIS</th>\n",
       "      <th>RAD</th>\n",
       "      <th>TAX</th>\n",
       "      <th>PTRATIO</th>\n",
       "      <th>B</th>\n",
       "      <th>LSTAT</th>\n",
       "    </tr>\n",
       "  </thead>\n",
       "  <tbody>\n",
       "    <tr>\n",
       "      <th>0</th>\n",
       "      <td>0.00632</td>\n",
       "      <td>18</td>\n",
       "      <td>2.31</td>\n",
       "      <td>0</td>\n",
       "      <td>0.538</td>\n",
       "      <td>6.575</td>\n",
       "      <td>65.2</td>\n",
       "      <td>4.0900</td>\n",
       "      <td>1</td>\n",
       "      <td>296</td>\n",
       "      <td>15.3</td>\n",
       "      <td>396.90</td>\n",
       "      <td>4.98</td>\n",
       "    </tr>\n",
       "    <tr>\n",
       "      <th>1</th>\n",
       "      <td>0.02731</td>\n",
       "      <td>0</td>\n",
       "      <td>7.07</td>\n",
       "      <td>0</td>\n",
       "      <td>0.469</td>\n",
       "      <td>6.421</td>\n",
       "      <td>78.9</td>\n",
       "      <td>4.9671</td>\n",
       "      <td>2</td>\n",
       "      <td>242</td>\n",
       "      <td>17.8</td>\n",
       "      <td>396.90</td>\n",
       "      <td>9.14</td>\n",
       "    </tr>\n",
       "    <tr>\n",
       "      <th>2</th>\n",
       "      <td>0.02729</td>\n",
       "      <td>0</td>\n",
       "      <td>7.07</td>\n",
       "      <td>0</td>\n",
       "      <td>0.469</td>\n",
       "      <td>7.185</td>\n",
       "      <td>61.1</td>\n",
       "      <td>4.9671</td>\n",
       "      <td>2</td>\n",
       "      <td>242</td>\n",
       "      <td>17.8</td>\n",
       "      <td>392.83</td>\n",
       "      <td>4.03</td>\n",
       "    </tr>\n",
       "    <tr>\n",
       "      <th>3</th>\n",
       "      <td>0.03237</td>\n",
       "      <td>0</td>\n",
       "      <td>2.18</td>\n",
       "      <td>0</td>\n",
       "      <td>0.458</td>\n",
       "      <td>6.998</td>\n",
       "      <td>45.8</td>\n",
       "      <td>6.0622</td>\n",
       "      <td>3</td>\n",
       "      <td>222</td>\n",
       "      <td>18.7</td>\n",
       "      <td>394.63</td>\n",
       "      <td>2.94</td>\n",
       "    </tr>\n",
       "    <tr>\n",
       "      <th>4</th>\n",
       "      <td>0.06905</td>\n",
       "      <td>0</td>\n",
       "      <td>2.18</td>\n",
       "      <td>0</td>\n",
       "      <td>0.458</td>\n",
       "      <td>7.147</td>\n",
       "      <td>54.2</td>\n",
       "      <td>6.0622</td>\n",
       "      <td>3</td>\n",
       "      <td>222</td>\n",
       "      <td>18.7</td>\n",
       "      <td>396.90</td>\n",
       "      <td>5.33</td>\n",
       "    </tr>\n",
       "  </tbody>\n",
       "</table>\n",
       "</div>"
      ],
      "text/plain": [
       "      CRIM  ZN  INDUS  CHAS    NOX     RM   AGE     DIS  RAD  TAX  PTRATIO  \\\n",
       "0  0.00632  18   2.31     0  0.538  6.575  65.2  4.0900    1  296     15.3   \n",
       "1  0.02731   0   7.07     0  0.469  6.421  78.9  4.9671    2  242     17.8   \n",
       "2  0.02729   0   7.07     0  0.469  7.185  61.1  4.9671    2  242     17.8   \n",
       "3  0.03237   0   2.18     0  0.458  6.998  45.8  6.0622    3  222     18.7   \n",
       "4  0.06905   0   2.18     0  0.458  7.147  54.2  6.0622    3  222     18.7   \n",
       "\n",
       "        B  LSTAT  \n",
       "0  396.90   4.98  \n",
       "1  396.90   9.14  \n",
       "2  392.83   4.03  \n",
       "3  394.63   2.94  \n",
       "4  396.90   5.33  "
      ]
     },
     "execution_count": 31,
     "metadata": {},
     "output_type": "execute_result"
    }
   ],
   "source": [
    "# Load the boston housing data\n",
    "boston_house_data = load_boston()\n",
    "\n",
    "# Create a data frame of samples and feature values.\n",
    "data_X_df = pd.DataFrame(boston_house_data.data, columns=boston_house_data.feature_names)\n",
    "data_X_df.head()\n"
   ]
  },
  {
   "cell_type": "markdown",
   "metadata": {},
   "source": [
    "## Preprocessing \n",
    "\n",
    "### Standardization\n",
    "\n",
    "Note: we will remove teh mean and scale the variance to help speed up the training.\n"
   ]
  },
  {
   "cell_type": "code",
   "execution_count": 32,
   "metadata": {
    "collapsed": false
   },
   "outputs": [
    {
     "name": "stderr",
     "output_type": "stream",
     "text": [
      "/usr/local/lib/python2.7/site-packages/sklearn/preprocessing/data.py:324: DeprecationWarning: Passing 1d arrays as data is deprecated in 0.17 and will raise ValueError in 0.19. Reshape your data either using X.reshape(-1, 1) if your data has a single feature or X.reshape(1, -1) if it contains a single sample.\n",
      "  warnings.warn(DEPRECATION_MSG_1D, DeprecationWarning)\n",
      "/usr/local/lib/python2.7/site-packages/sklearn/preprocessing/data.py:359: DeprecationWarning: Passing 1d arrays as data is deprecated in 0.17 and will raise ValueError in 0.19. Reshape your data either using X.reshape(-1, 1) if your data has a single feature or X.reshape(1, -1) if it contains a single sample.\n",
      "  warnings.warn(DEPRECATION_MSG_1D, DeprecationWarning)\n"
     ]
    }
   ],
   "source": [
    "data_scaler = preprocessing.MinMaxScaler()\n",
    "target_scaler = preprocessing.MinMaxScaler()\n",
    "\n",
    "data = data_scaler.fit_transform(boston_house_data.data)\n",
    "target = target_scaler.fit_transform(boston_house_data.target)\n",
    "# data = data_X_df.values\n",
    "# target = boston_house_data.target"
   ]
  },
  {
   "cell_type": "code",
   "execution_count": 33,
   "metadata": {
    "collapsed": false
   },
   "outputs": [
    {
     "name": "stdout",
     "output_type": "stream",
     "text": [
      "Dimension of X_train = (379, 13)\n",
      "Dimension of y_train = (379,)\n",
      "Dimension of X_test = (127, 13)\n",
      "Dimension of y_test = (127,)\n"
     ]
    }
   ],
   "source": [
    "# Print the dimensions of train and test data.\n",
    "X_train, X_test, y_train, y_test = train_test_split(data, target, test_size=0.25, random_state=4)\n",
    "print \"Dimension of X_train =\", X_train.shape\n",
    "print \"Dimension of y_train =\", y_train.shape\n",
    "print \"Dimension of X_test =\", X_test.shape\n",
    "print \"Dimension of y_test =\", y_test.shape"
   ]
  },
  {
   "cell_type": "markdown",
   "metadata": {},
   "source": [
    "## Stacking Testbench\n",
    "\n",
    "### Stacker Helper\n",
    "\n",
    "I have a simple stacking routine:"
   ]
  },
  {
   "cell_type": "code",
   "execution_count": 34,
   "metadata": {
    "collapsed": true
   },
   "outputs": [],
   "source": [
    "class StackedRegressor():\n",
    "\n",
    "    def __init__(self, base_regressors, meta_regressor):\n",
    "        \"\"\"Constructor for StackedRegressor. Takes list of base_regressors and a meta_regressor\"\"\"\n",
    "        self.__base_regressors = base_regressors\n",
    "        self.__meta_regressor = meta_regressor\n",
    "        self.__kbest = None\n",
    "\n",
    "    def fit(self, X, y, split=True, kbest=None):\n",
    "\n",
    "        if kbest:\n",
    "            kb = SelectKBest(f_regression, k=kbest).fit(X, y)\n",
    "            self.__kbest = kb.scores_.argsort()[-kbest:]\n",
    "            X = X[:, self.__kbest]\n",
    "        if split:\n",
    "            # Split the data so that it will not over fit.\n",
    "            X_train, X_test, y_train, y_test = train_test_split(X, y, test_size=0.5, random_state=4)\n",
    "        else:\n",
    "            X_train, X_test, y_train, y_test = X, X, y, y\n",
    "        \n",
    "        # Fit and predict the train data on the level0 regressors.\n",
    "        meta_input = [regressor.fit(X_train, y_train).predict(X_test) for regressor in self.__base_regressors]\n",
    "        \n",
    "        # Fit the predicted values of above level 0 classifiers into meta regressor\n",
    "        X_meta = np.array(meta_input).transpose()\n",
    "        self.__meta_regressor.fit(X_meta, y_test)\n",
    "        return self\n",
    "\n",
    "    def predict(self, X):\n",
    "        if not self.__kbest is None:\n",
    "            X = X[:, self.__kbest]\n",
    "        \n",
    "        # Predict the test data on level0 regressors\n",
    "        self.base_regressors_predict_ = [regressor.predict(X) for regressor in self.__base_regressors]\n",
    "        \n",
    "        # Predict the final values.\n",
    "        X_meta = np.array(self.base_regressors_predict_).transpose()\n",
    "        \n",
    "        return self.__meta_regressor.predict(X_meta)\n",
    "\n",
    "    def scores(self, X, y):\n",
    "        if not self.__kbest is None:\n",
    "            X = X[:, self.__kbest]\n",
    "\n",
    "        X_meta = np.array([regressor.predict(X) for regressor in self.__base_regressors]).transpose()\n",
    "        self.score_base_regressors_ = [regressor.score(X, y) for regressor in self.__base_regressors]\n",
    "        self.score_meta_regressor_ = self.__meta_regressor.score(X_meta, y)\n",
    "\n",
    "        self.mse_base_regressors_ = [mean_squared_error(y, X_meta[:, i]) for i in range(X_meta.shape[1])]\n",
    "        self.mse_meta_regressor_ = mean_squared_error(y, self.__meta_regressor.predict(X_meta))"
   ]
  },
  {
   "cell_type": "markdown",
   "metadata": {},
   "source": [
    "### Evaluation\n",
    "\n",
    "I also have a simple routine to test my ensemable:\n"
   ]
  },
  {
   "cell_type": "code",
   "execution_count": 35,
   "metadata": {
    "collapsed": true
   },
   "outputs": [],
   "source": [
    "def evaluate_model(base_regressors, meta_regressor, names, split=True, kbest=None):\n",
    "    stacked_regressor = StackedRegressor(base_regressors=base_regressors, meta_regressor=meta_regressor)\n",
    "    stacked_regressor.fit(X_train, y_train, split, kbest)\n",
    "    stacked_regressor.scores(X_test, y_test)\n",
    "    print \"Scores of base regressors on test data =\", stacked_regressor.score_base_regressors_\n",
    "    print \"Score of meta regressor on test data =\", stacked_regressor.score_meta_regressor_\n",
    "\n",
    "    print \"Mean squared error of base regressors on test data =\", stacked_regressor.mse_base_regressors_\n",
    "    print \"Mean squared error of meta regressor on test data =\", stacked_regressor.mse_meta_regressor_\n",
    "\n",
    "    predicted_y = stacked_regressor.predict(X_test)\n",
    "    df = pd.DataFrame(stacked_regressor.base_regressors_predict_ + [predicted_y, y_test],index=names + [\"Original\"]).T\n",
    "    df2 = pd.DataFrame(\n",
    "        {\"MSE\": stacked_regressor.mse_base_regressors_ + [stacked_regressor.mse_meta_regressor_],\n",
    "        \"SCORE\" : stacked_regressor.score_base_regressors_ + [stacked_regressor.score_meta_regressor_]}, \n",
    "        index=names)\n",
    "    df2.plot(kind='bar', alpha=0.5, grid=True, rot=45, subplots=True, layout=(1,2), legend=False, figsize=(12, 4))\n",
    "    return df"
   ]
  },
  {
   "cell_type": "markdown",
   "metadata": {},
   "source": [
    "## Experiments\n",
    "\n",
    "Below I try various combinations of classifiers to get get the best stack:\n",
    "\n",
    "\n",
    "### 1"
   ]
  },
  {
   "cell_type": "markdown",
   "metadata": {},
   "source": [
    "**Base regressors:**\n",
    "\n",
    "- ExtraTreeRegressor with max_depth=2\n",
    "\n",
    "- LinearRegression\n",
    "\n",
    "**Meta regressor**\n",
    "\n",
    "- Ridge\n",
    "\n",
    "**Best features**\n",
    "\n",
    "- 5 best features are choosen based on f_regression."
   ]
  },
  {
   "cell_type": "code",
   "execution_count": 36,
   "metadata": {
    "collapsed": false
   },
   "outputs": [
    {
     "name": "stdout",
     "output_type": "stream",
     "text": [
      "Scores of base regressors on test data = [0.42788981976300483, 0.69832284909850706]\n",
      "Score of meta regressor on test data = 0.694247827001\n",
      "Mean squared error of base regressors on test data = [0.028346583162450881, 0.014947324381988751]\n",
      "Mean squared error of meta regressor on test data = 0.0151492312118\n"
     ]
    },
    {
     "data": {
      "text/html": [
       "<div>\n",
       "<table border=\"1\" class=\"dataframe\">\n",
       "  <thead>\n",
       "    <tr style=\"text-align: right;\">\n",
       "      <th></th>\n",
       "      <th>Extra Tree (max_depth=2)</th>\n",
       "      <th>Linear Regression</th>\n",
       "      <th>Stacked Regressor</th>\n",
       "      <th>Original</th>\n",
       "    </tr>\n",
       "  </thead>\n",
       "  <tbody>\n",
       "    <tr>\n",
       "      <th>0</th>\n",
       "      <td>0.419064</td>\n",
       "      <td>0.172544</td>\n",
       "      <td>0.249110</td>\n",
       "      <td>0.255556</td>\n",
       "    </tr>\n",
       "    <tr>\n",
       "      <th>1</th>\n",
       "      <td>0.419064</td>\n",
       "      <td>0.486412</td>\n",
       "      <td>0.458424</td>\n",
       "      <td>0.440000</td>\n",
       "    </tr>\n",
       "    <tr>\n",
       "      <th>2</th>\n",
       "      <td>0.419064</td>\n",
       "      <td>0.297049</td>\n",
       "      <td>0.332140</td>\n",
       "      <td>0.275556</td>\n",
       "    </tr>\n",
       "    <tr>\n",
       "      <th>3</th>\n",
       "      <td>0.419064</td>\n",
       "      <td>0.167674</td>\n",
       "      <td>0.245862</td>\n",
       "      <td>0.317778</td>\n",
       "    </tr>\n",
       "    <tr>\n",
       "      <th>4</th>\n",
       "      <td>0.953651</td>\n",
       "      <td>0.706721</td>\n",
       "      <td>0.838002</td>\n",
       "      <td>0.724444</td>\n",
       "    </tr>\n",
       "  </tbody>\n",
       "</table>\n",
       "</div>"
      ],
      "text/plain": [
       "   Extra Tree (max_depth=2)  Linear Regression  Stacked Regressor  Original\n",
       "0                  0.419064           0.172544           0.249110  0.255556\n",
       "1                  0.419064           0.486412           0.458424  0.440000\n",
       "2                  0.419064           0.297049           0.332140  0.275556\n",
       "3                  0.419064           0.167674           0.245862  0.317778\n",
       "4                  0.953651           0.706721           0.838002  0.724444"
      ]
     },
     "execution_count": 36,
     "metadata": {},
     "output_type": "execute_result"
    },
    {
     "data": {
      "image/png": "[encoded data removed]",
      "text/plain": [
       "<matplotlib.figure.Figure at 0x114160fd0>"
      ]
     },
     "metadata": {},
     "output_type": "display_data"
    }
   ],
   "source": [
    "base_regressors=[ExtraTreeRegressor(max_depth=2), LinearRegression()]\n",
    "meta_regressor = Ridge(alpha=0.5)\n",
    "names = [\"Extra Tree (max_depth=2)\", \"Linear Regression\", \"Stacked Regressor\"]\n",
    "evaluate_model(base_regressors, meta_regressor, names, split=True, kbest=5).head()"
   ]
  },
  {
   "cell_type": "markdown",
   "metadata": {},
   "source": [
    "### 2"
   ]
  },
  {
   "cell_type": "markdown",
   "metadata": {},
   "source": [
    "**Base regressors:**\n",
    "\n",
    "- DecisionTreeRegressor with max_depth=2\n",
    "\n",
    "- DecisionTreeRegressor with max_depth=3\n",
    "\n",
    "**Meta regressor**\n",
    "\n",
    "- DecisionTreeRegressor with max_depth=3\n",
    "\n",
    "\n",
    "**Details**\n",
    "\n",
    "- We split the train data into sets so that decision tree regressor dont perfectly predict.\n",
    "\n",
    "- Default parameters of DecisionTreeRegressor perfectly predicts the train data so we must be careful.\n",
    "\n",
    "- Use max_depth=2 to reduce over fitting.\n",
    "\n",
    "- Stacking in this case improves but not a lot."
   ]
  },
  {
   "cell_type": "code",
   "execution_count": 37,
   "metadata": {
    "collapsed": false
   },
   "outputs": [
    {
     "name": "stdout",
     "output_type": "stream",
     "text": [
      "Scores of base regressors on test data = [0.63579187940592363, 0.61034610399040568]\n",
      "Score of meta regressor on test data = 0.604459826526\n",
      "Mean squared error of base regressors on test data = [0.01804557257586854, 0.019306345087642812]\n",
      "Mean squared error of meta regressor on test data = 0.0195979949471\n"
     ]
    },
    {
     "data": {
      "text/html": [
       "<div>\n",
       "<table border=\"1\" class=\"dataframe\">\n",
       "  <thead>\n",
       "    <tr style=\"text-align: right;\">\n",
       "      <th></th>\n",
       "      <th>Decision Tree (max_depth=2)</th>\n",
       "      <th>Decision Tree (max_depth=3)</th>\n",
       "      <th>Stacked Regressor</th>\n",
       "      <th>Original</th>\n",
       "    </tr>\n",
       "  </thead>\n",
       "  <tbody>\n",
       "    <tr>\n",
       "      <th>0</th>\n",
       "      <td>0.194932</td>\n",
       "      <td>0.229298</td>\n",
       "      <td>0.236809</td>\n",
       "      <td>0.255556</td>\n",
       "    </tr>\n",
       "    <tr>\n",
       "      <th>1</th>\n",
       "      <td>0.389744</td>\n",
       "      <td>0.383819</td>\n",
       "      <td>0.389396</td>\n",
       "      <td>0.440000</td>\n",
       "    </tr>\n",
       "    <tr>\n",
       "      <th>2</th>\n",
       "      <td>0.389744</td>\n",
       "      <td>0.383819</td>\n",
       "      <td>0.389396</td>\n",
       "      <td>0.275556</td>\n",
       "    </tr>\n",
       "    <tr>\n",
       "      <th>3</th>\n",
       "      <td>0.194932</td>\n",
       "      <td>0.229298</td>\n",
       "      <td>0.236809</td>\n",
       "      <td>0.317778</td>\n",
       "    </tr>\n",
       "    <tr>\n",
       "      <th>4</th>\n",
       "      <td>0.875758</td>\n",
       "      <td>0.925778</td>\n",
       "      <td>0.920317</td>\n",
       "      <td>0.724444</td>\n",
       "    </tr>\n",
       "  </tbody>\n",
       "</table>\n",
       "</div>"
      ],
      "text/plain": [
       "   Decision Tree (max_depth=2)  Decision Tree (max_depth=3)  \\\n",
       "0                     0.194932                     0.229298   \n",
       "1                     0.389744                     0.383819   \n",
       "2                     0.389744                     0.383819   \n",
       "3                     0.194932                     0.229298   \n",
       "4                     0.875758                     0.925778   \n",
       "\n",
       "   Stacked Regressor  Original  \n",
       "0           0.236809  0.255556  \n",
       "1           0.389396  0.440000  \n",
       "2           0.389396  0.275556  \n",
       "3           0.236809  0.317778  \n",
       "4           0.920317  0.724444  "
      ]
     },
     "execution_count": 37,
     "metadata": {},
     "output_type": "execute_result"
    },
    {
     "data": {
      "image/png": "[encoded data removed]",
      "text/plain": [
       "<matplotlib.figure.Figure at 0x114c834d0>"
      ]
     },
     "metadata": {},
     "output_type": "display_data"
    }
   ],
   "source": [
    "base_regressors=[DecisionTreeRegressor(max_depth=2), DecisionTreeRegressor(max_depth=3)]\n",
    "meta_regressor = DecisionTreeRegressor(max_depth=3)\n",
    "names = [\"Decision Tree (max_depth=2)\", \"Decision Tree (max_depth=3)\", \"Stacked Regressor\"]\n",
    "evaluate_model(base_regressors, meta_regressor, names).head()"
   ]
  },
  {
   "cell_type": "markdown",
   "metadata": {},
   "source": [
    "### 3\n",
    "\n",
    "**Base regressors:**\n",
    "\n",
    "- DecisionTreeRegressor with max_depth=2\n",
    "\n",
    "- DecisionTreeRegressor with max_depth=3\n",
    "\n",
    "**Meta regressor**\n",
    "\n",
    "- LinearRegression\n",
    "\n",
    "**Details**\n",
    "\n",
    "- Stacked model improves a bit but not a lot. This could be because the the DecisionTreeRegressor with depth=3 is a good classifier."
   ]
  },
  {
   "cell_type": "code",
   "execution_count": 38,
   "metadata": {
    "collapsed": false
   },
   "outputs": [
    {
     "name": "stdout",
     "output_type": "stream",
     "text": [
      "Scores of base regressors on test data = [0.63579187940592363, 0.63247573799950785]\n",
      "Score of meta regressor on test data = 0.628166299997\n",
      "Mean squared error of base regressors on test data = [0.01804557257586854, 0.018209878825613073]\n",
      "Mean squared error of meta regressor on test data = 0.0184234003586\n"
     ]
    },
    {
     "data": {
      "text/html": [
       "<div>\n",
       "<table border=\"1\" class=\"dataframe\">\n",
       "  <thead>\n",
       "    <tr style=\"text-align: right;\">\n",
       "      <th></th>\n",
       "      <th>Decision Tree (max_depth=2)</th>\n",
       "      <th>Decision Tree (max_depth=3)</th>\n",
       "      <th>Stacked Regressor</th>\n",
       "      <th>Original</th>\n",
       "    </tr>\n",
       "  </thead>\n",
       "  <tbody>\n",
       "    <tr>\n",
       "      <th>0</th>\n",
       "      <td>0.194932</td>\n",
       "      <td>0.229298</td>\n",
       "      <td>0.216873</td>\n",
       "      <td>0.255556</td>\n",
       "    </tr>\n",
       "    <tr>\n",
       "      <th>1</th>\n",
       "      <td>0.389744</td>\n",
       "      <td>0.383819</td>\n",
       "      <td>0.383022</td>\n",
       "      <td>0.440000</td>\n",
       "    </tr>\n",
       "    <tr>\n",
       "      <th>2</th>\n",
       "      <td>0.389744</td>\n",
       "      <td>0.383819</td>\n",
       "      <td>0.383022</td>\n",
       "      <td>0.275556</td>\n",
       "    </tr>\n",
       "    <tr>\n",
       "      <th>3</th>\n",
       "      <td>0.194932</td>\n",
       "      <td>0.229298</td>\n",
       "      <td>0.216873</td>\n",
       "      <td>0.317778</td>\n",
       "    </tr>\n",
       "    <tr>\n",
       "      <th>4</th>\n",
       "      <td>0.875758</td>\n",
       "      <td>0.925778</td>\n",
       "      <td>0.818713</td>\n",
       "      <td>0.724444</td>\n",
       "    </tr>\n",
       "  </tbody>\n",
       "</table>\n",
       "</div>"
      ],
      "text/plain": [
       "   Decision Tree (max_depth=2)  Decision Tree (max_depth=3)  \\\n",
       "0                     0.194932                     0.229298   \n",
       "1                     0.389744                     0.383819   \n",
       "2                     0.389744                     0.383819   \n",
       "3                     0.194932                     0.229298   \n",
       "4                     0.875758                     0.925778   \n",
       "\n",
       "   Stacked Regressor  Original  \n",
       "0           0.216873  0.255556  \n",
       "1           0.383022  0.440000  \n",
       "2           0.383022  0.275556  \n",
       "3           0.216873  0.317778  \n",
       "4           0.818713  0.724444  "
      ]
     },
     "execution_count": 38,
     "metadata": {},
     "output_type": "execute_result"
    },
    {
     "data": {
      "image/png": "[encoded data removed]",
      "text/plain": [
       "<matplotlib.figure.Figure at 0x11452e8d0>"
      ]
     },
     "metadata": {},
     "output_type": "display_data"
    }
   ],
   "source": [
    "base_regressors=[DecisionTreeRegressor(max_depth=2), DecisionTreeRegressor(max_depth=3)]\n",
    "meta_regressor = LinearRegression()\n",
    "names = [\"Decision Tree (max_depth=2)\", \"Decision Tree (max_depth=3)\", \"Stacked Regressor\"]\n",
    "evaluate_model(base_regressors, meta_regressor, names).head()"
   ]
  },
  {
   "cell_type": "markdown",
   "metadata": {},
   "source": [
    "### 4\n",
    "\n",
    "**Base regressors:**\n",
    "\n",
    "- DecisionTreeRegressor with max_depth=2\n",
    "\n",
    "- LinearRegression\n",
    "\n",
    "**Meta regressor**\n",
    "\n",
    "- Ridge\n",
    "\n",
    "**Details**\n",
    "\n",
    "- Stacked model improves a lot in this case. Here we chose 2 weak regressors in level 0.\n",
    "\n",
    "- Train data is not split in training phase.\n",
    "\n",
    "- The predicted \n"
   ]
  },
  {
   "cell_type": "code",
   "execution_count": 39,
   "metadata": {
    "collapsed": false
   },
   "outputs": [
    {
     "name": "stdout",
     "output_type": "stream",
     "text": [
      "Scores of base regressors on test data = [0.63579187940592363, 0.74362478849407732]\n",
      "Score of meta regressor on test data = 0.746682965603\n",
      "Mean squared error of base regressors on test data = [0.01804557257586854, 0.012702730181681247]\n",
      "Mean squared error of meta regressor on test data = 0.0125512053972\n"
     ]
    },
    {
     "data": {
      "text/html": [
       "<div>\n",
       "<table border=\"1\" class=\"dataframe\">\n",
       "  <thead>\n",
       "    <tr style=\"text-align: right;\">\n",
       "      <th></th>\n",
       "      <th>Decision Tree (max_depth=2)</th>\n",
       "      <th>Linear Regression</th>\n",
       "      <th>Stacked Regressor</th>\n",
       "      <th>Original</th>\n",
       "    </tr>\n",
       "  </thead>\n",
       "  <tbody>\n",
       "    <tr>\n",
       "      <th>0</th>\n",
       "      <td>0.194932</td>\n",
       "      <td>0.130278</td>\n",
       "      <td>0.162273</td>\n",
       "      <td>0.255556</td>\n",
       "    </tr>\n",
       "    <tr>\n",
       "      <th>1</th>\n",
       "      <td>0.389744</td>\n",
       "      <td>0.480543</td>\n",
       "      <td>0.436035</td>\n",
       "      <td>0.440000</td>\n",
       "    </tr>\n",
       "    <tr>\n",
       "      <th>2</th>\n",
       "      <td>0.389744</td>\n",
       "      <td>0.268457</td>\n",
       "      <td>0.312494</td>\n",
       "      <td>0.275556</td>\n",
       "    </tr>\n",
       "    <tr>\n",
       "      <th>3</th>\n",
       "      <td>0.194932</td>\n",
       "      <td>0.249260</td>\n",
       "      <td>0.231580</td>\n",
       "      <td>0.317778</td>\n",
       "    </tr>\n",
       "    <tr>\n",
       "      <th>4</th>\n",
       "      <td>0.875758</td>\n",
       "      <td>0.736575</td>\n",
       "      <td>0.759139</td>\n",
       "      <td>0.724444</td>\n",
       "    </tr>\n",
       "  </tbody>\n",
       "</table>\n",
       "</div>"
      ],
      "text/plain": [
       "   Decision Tree (max_depth=2)  Linear Regression  Stacked Regressor  Original\n",
       "0                     0.194932           0.130278           0.162273  0.255556\n",
       "1                     0.389744           0.480543           0.436035  0.440000\n",
       "2                     0.389744           0.268457           0.312494  0.275556\n",
       "3                     0.194932           0.249260           0.231580  0.317778\n",
       "4                     0.875758           0.736575           0.759139  0.724444"
      ]
     },
     "execution_count": 39,
     "metadata": {},
     "output_type": "execute_result"
    },
    {
     "data": {
      "image/png": "[encoded data removed]",
      "text/plain": [
       "<matplotlib.figure.Figure at 0x113ef8650>"
      ]
     },
     "metadata": {},
     "output_type": "display_data"
    }
   ],
   "source": [
    "base_regressors=[DecisionTreeRegressor(max_depth=2), LinearRegression()]\n",
    "meta_regressor = Ridge()\n",
    "names = [\"Decision Tree (max_depth=2)\", \"Linear Regression\", \"Stacked Regressor\"]\n",
    "evaluate_model(base_regressors, meta_regressor, names).head()"
   ]
  },
  {
   "cell_type": "markdown",
   "metadata": {},
   "source": [
    "### 5\n",
    "\n",
    "**Base regressors:**\n",
    "\n",
    "- Ridge\n",
    "\n",
    "- LinearRegression\n",
    "\n",
    "**Meta regressor**\n",
    "\n",
    "- LinearRegression\n",
    "\n",
    "**Details**\n",
    "\n",
    "- Stacked model improves very less in this case. This is expected because there is no additional refinement on intermediate predicted values."
   ]
  },
  {
   "cell_type": "code",
   "execution_count": 40,
   "metadata": {
    "collapsed": false
   },
   "outputs": [
    {
     "name": "stdout",
     "output_type": "stream",
     "text": [
      "Scores of base regressors on test data = [0.71996212026890405, 0.74362478849407732]\n",
      "Score of meta regressor on test data = 0.722948935003\n",
      "Mean squared error of base regressors on test data = [0.013875154333288718, 0.012702730181681247]\n",
      "Mean squared error of meta regressor on test data = 0.0137271653704\n"
     ]
    },
    {
     "data": {
      "text/html": [
       "<div>\n",
       "<table border=\"1\" class=\"dataframe\">\n",
       "  <thead>\n",
       "    <tr style=\"text-align: right;\">\n",
       "      <th></th>\n",
       "      <th>Ridge</th>\n",
       "      <th>Linear</th>\n",
       "      <th>Stacked</th>\n",
       "      <th>Original</th>\n",
       "    </tr>\n",
       "  </thead>\n",
       "  <tbody>\n",
       "    <tr>\n",
       "      <th>0</th>\n",
       "      <td>0.184764</td>\n",
       "      <td>0.130278</td>\n",
       "      <td>0.184683</td>\n",
       "      <td>0.255556</td>\n",
       "    </tr>\n",
       "    <tr>\n",
       "      <th>1</th>\n",
       "      <td>0.476263</td>\n",
       "      <td>0.480543</td>\n",
       "      <td>0.484454</td>\n",
       "      <td>0.440000</td>\n",
       "    </tr>\n",
       "    <tr>\n",
       "      <th>2</th>\n",
       "      <td>0.301190</td>\n",
       "      <td>0.268457</td>\n",
       "      <td>0.305672</td>\n",
       "      <td>0.275556</td>\n",
       "    </tr>\n",
       "    <tr>\n",
       "      <th>3</th>\n",
       "      <td>0.284814</td>\n",
       "      <td>0.249260</td>\n",
       "      <td>0.288479</td>\n",
       "      <td>0.317778</td>\n",
       "    </tr>\n",
       "    <tr>\n",
       "      <th>4</th>\n",
       "      <td>0.682497</td>\n",
       "      <td>0.736575</td>\n",
       "      <td>0.690520</td>\n",
       "      <td>0.724444</td>\n",
       "    </tr>\n",
       "  </tbody>\n",
       "</table>\n",
       "</div>"
      ],
      "text/plain": [
       "      Ridge    Linear   Stacked  Original\n",
       "0  0.184764  0.130278  0.184683  0.255556\n",
       "1  0.476263  0.480543  0.484454  0.440000\n",
       "2  0.301190  0.268457  0.305672  0.275556\n",
       "3  0.284814  0.249260  0.288479  0.317778\n",
       "4  0.682497  0.736575  0.690520  0.724444"
      ]
     },
     "execution_count": 40,
     "metadata": {},
     "output_type": "execute_result"
    },
    {
     "data": {
      "image/png": "[encoded data removed]",
      "text/plain": [
       "<matplotlib.figure.Figure at 0x1147c8c10>"
      ]
     },
     "metadata": {},
     "output_type": "display_data"
    }
   ],
   "source": [
    "base_regressors=[Ridge(), LinearRegression()]\n",
    "meta_regressor = LinearRegression()\n",
    "names = [\"Ridge\", \"Linear\", \"Stacked\"]\n",
    "evaluate_model(base_regressors, meta_regressor, names).head()"
   ]
  },
  {
   "cell_type": "markdown",
   "metadata": {},
   "source": [
    "### 6\n",
    "\n",
    "**Base regressors:**\n",
    "\n",
    "- SVR\n",
    "\n",
    "- LinearRegression\n",
    "\n",
    "**Meta regressor**\n",
    "\n",
    "- GradientBoostingRegressor\n",
    "\n",
    "**Details**\n",
    "\n",
    "- Stacked model improves a lot in this case. Here we chose 2 weak regressors in level 0.\n",
    "\n",
    "- Train data is not split in training phase.\n",
    "\n",
    "- The predicted \n",
    "\n"
   ]
  },
  {
   "cell_type": "code",
   "execution_count": 41,
   "metadata": {
    "collapsed": false
   },
   "outputs": [
    {
     "name": "stdout",
     "output_type": "stream",
     "text": [
      "Scores of base regressors on test data = [0.82391286504364492, 0.74362478849407732]\n",
      "Score of meta regressor on test data = 0.858679441853\n",
      "Mean squared error of base regressors on test data = [0.0087246631633269098, 0.012702730181681247]\n",
      "Mean squared error of meta regressor on test data = 0.00700206899379\n"
     ]
    },
    {
     "data": {
      "text/html": [
       "<div>\n",
       "<table border=\"1\" class=\"dataframe\">\n",
       "  <thead>\n",
       "    <tr style=\"text-align: right;\">\n",
       "      <th></th>\n",
       "      <th>SVR</th>\n",
       "      <th>LR</th>\n",
       "      <th>Stacked Regressor (GBR)</th>\n",
       "      <th>Original</th>\n",
       "    </tr>\n",
       "  </thead>\n",
       "  <tbody>\n",
       "    <tr>\n",
       "      <th>0</th>\n",
       "      <td>0.069255</td>\n",
       "      <td>0.130278</td>\n",
       "      <td>0.107891</td>\n",
       "      <td>0.255556</td>\n",
       "    </tr>\n",
       "    <tr>\n",
       "      <th>1</th>\n",
       "      <td>0.496389</td>\n",
       "      <td>0.480543</td>\n",
       "      <td>0.441441</td>\n",
       "      <td>0.440000</td>\n",
       "    </tr>\n",
       "    <tr>\n",
       "      <th>2</th>\n",
       "      <td>0.312052</td>\n",
       "      <td>0.268457</td>\n",
       "      <td>0.262614</td>\n",
       "      <td>0.275556</td>\n",
       "    </tr>\n",
       "    <tr>\n",
       "      <th>3</th>\n",
       "      <td>0.365077</td>\n",
       "      <td>0.249260</td>\n",
       "      <td>0.329880</td>\n",
       "      <td>0.317778</td>\n",
       "    </tr>\n",
       "    <tr>\n",
       "      <th>4</th>\n",
       "      <td>0.825166</td>\n",
       "      <td>0.736575</td>\n",
       "      <td>0.943346</td>\n",
       "      <td>0.724444</td>\n",
       "    </tr>\n",
       "  </tbody>\n",
       "</table>\n",
       "</div>"
      ],
      "text/plain": [
       "        SVR        LR  Stacked Regressor (GBR)  Original\n",
       "0  0.069255  0.130278                 0.107891  0.255556\n",
       "1  0.496389  0.480543                 0.441441  0.440000\n",
       "2  0.312052  0.268457                 0.262614  0.275556\n",
       "3  0.365077  0.249260                 0.329880  0.317778\n",
       "4  0.825166  0.736575                 0.943346  0.724444"
      ]
     },
     "execution_count": 41,
     "metadata": {},
     "output_type": "execute_result"
    },
    {
     "data": {
      "image/png": "[encoded data removed]",
      "text/plain": [
       "<matplotlib.figure.Figure at 0x114572190>"
      ]
     },
     "metadata": {},
     "output_type": "display_data"
    }
   ],
   "source": [
    "svr_poly = SVR(kernel='poly', C=1e3, degree=2)\n",
    "lm_model = LinearRegression()\n",
    "base_regressors=[svr_poly, lm_model]\n",
    "\n",
    "params = {'n_estimators': 500, 'max_depth': 4, 'min_samples_split': 1, 'learning_rate': 0.01, 'loss': 'ls'}\n",
    "gb_clf = ensemble.GradientBoostingRegressor(**params)\n",
    "meta_regressor = gb_clf\n",
    "\n",
    "names = [\"SVR\", \"LR\", \"Stacked Regressor (GBR)\"]\n",
    "evaluate_model(base_regressors, meta_regressor, names, split=True, kbest=None).head()"
   ]
  },
  {
   "cell_type": "markdown",
   "metadata": {
    "collapsed": false
   },
   "source": [
    "## 7\n",
    "\n",
    "**Base regressors:**\n",
    "\n",
    "- Ridge\n",
    "\n",
    "- Random Forest\n",
    "\n",
    "- GradientBoostingClassifier\n",
    "\n",
    "**Meta regressor**\n",
    "\n",
    "- Linear Regression"
   ]
  },
  {
   "cell_type": "code",
   "execution_count": 42,
   "metadata": {
    "collapsed": false
   },
   "outputs": [
    {
     "name": "stdout",
     "output_type": "stream",
     "text": [
      "Scores of base regressors on test data = [0.59415584656046994, 0.84289013015440806, 0.84915757811161574]\n",
      "Score of meta regressor on test data = 0.837076788609\n",
      "Mean squared error of base regressors on test data = [0.020108530566092166, 0.0077843886458637121, 0.0074738527720540054]\n",
      "Mean squared error of meta regressor on test data = 0.00807242471875\n"
     ]
    },
    {
     "data": {
      "text/html": [
       "<div>\n",
       "<table border=\"1\" class=\"dataframe\">\n",
       "  <thead>\n",
       "    <tr style=\"text-align: right;\">\n",
       "      <th></th>\n",
       "      <th>Ridge</th>\n",
       "      <th>RF</th>\n",
       "      <th>GBR</th>\n",
       "      <th>LR (meta)</th>\n",
       "      <th>Original</th>\n",
       "    </tr>\n",
       "  </thead>\n",
       "  <tbody>\n",
       "    <tr>\n",
       "      <th>0</th>\n",
       "      <td>0.287671</td>\n",
       "      <td>0.247667</td>\n",
       "      <td>0.195480</td>\n",
       "      <td>0.233331</td>\n",
       "      <td>0.255556</td>\n",
       "    </tr>\n",
       "    <tr>\n",
       "      <th>1</th>\n",
       "      <td>0.476039</td>\n",
       "      <td>0.395778</td>\n",
       "      <td>0.386835</td>\n",
       "      <td>0.435513</td>\n",
       "      <td>0.440000</td>\n",
       "    </tr>\n",
       "    <tr>\n",
       "      <th>2</th>\n",
       "      <td>0.358131</td>\n",
       "      <td>0.351111</td>\n",
       "      <td>0.322162</td>\n",
       "      <td>0.342395</td>\n",
       "      <td>0.275556</td>\n",
       "    </tr>\n",
       "    <tr>\n",
       "      <th>3</th>\n",
       "      <td>0.337494</td>\n",
       "      <td>0.292889</td>\n",
       "      <td>0.292313</td>\n",
       "      <td>0.290744</td>\n",
       "      <td>0.317778</td>\n",
       "    </tr>\n",
       "    <tr>\n",
       "      <th>4</th>\n",
       "      <td>0.580435</td>\n",
       "      <td>0.953556</td>\n",
       "      <td>1.003937</td>\n",
       "      <td>0.878876</td>\n",
       "      <td>0.724444</td>\n",
       "    </tr>\n",
       "  </tbody>\n",
       "</table>\n",
       "</div>"
      ],
      "text/plain": [
       "      Ridge        RF       GBR  LR (meta)  Original\n",
       "0  0.287671  0.247667  0.195480   0.233331  0.255556\n",
       "1  0.476039  0.395778  0.386835   0.435513  0.440000\n",
       "2  0.358131  0.351111  0.322162   0.342395  0.275556\n",
       "3  0.337494  0.292889  0.292313   0.290744  0.317778\n",
       "4  0.580435  0.953556  1.003937   0.878876  0.724444"
      ]
     },
     "execution_count": 42,
     "metadata": {},
     "output_type": "execute_result"
    },
    {
     "data": {
      "image/png": "[encoded data removed]",
      "text/plain": [
       "<matplotlib.figure.Figure at 0x1142e3390>"
      ]
     },
     "metadata": {},
     "output_type": "display_data"
    }
   ],
   "source": [
    "base_regressors = [Ridge(fit_intercept=True, normalize=True),\n",
    "                  ensemble.RandomForestRegressor(n_estimators=20, warm_start=True),\n",
    "                  ensemble.GradientBoostingRegressor(n_estimators=100, warm_start=True)]\n",
    "\n",
    "meta_regressor = LinearRegression()\n",
    "    \n",
    "names = [\"Ridge\", \"RF\", \"GBR\", \"LR (meta)\"]\n",
    "evaluate_model(base_regressors, meta_regressor, names, split=True, kbest=None).head()"
   ]
  },
  {
   "cell_type": "markdown",
   "metadata": {
    "collapsed": false
   },
   "source": [
    "# Conclusion\n",
    "\n",
    "Sometimes the stacking ensemeble effect achives a higher accutacy than the individial classifiers."
   ]
  },
  {
   "cell_type": "code",
   "execution_count": null,
   "metadata": {
    "collapsed": true
   },
   "outputs": [],
   "source": []
  }
 ],
 "metadata": {
  "kernelspec": {
   "display_name": "Python 2",
   "language": "python",
   "name": "python2"
  },
  "language_info": {
   "codemirror_mode": {
    "name": "ipython",
    "version": 2
   },
   "file_extension": ".py",
   "mimetype": "text/x-python",
   "name": "python",
   "nbconvert_exporter": "python",
   "pygments_lexer": "ipython2",
   "version": "2.7.11"
  }
 },
 "nbformat": 4,
 "nbformat_minor": 0
}
